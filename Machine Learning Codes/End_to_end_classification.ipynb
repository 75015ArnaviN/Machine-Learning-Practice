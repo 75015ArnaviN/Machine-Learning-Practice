{
 "cells": [
  {
   "cell_type": "code",
   "execution_count": 1,
   "metadata": {
    "executionInfo": {
     "elapsed": 5,
     "status": "ok",
     "timestamp": 1674389531262,
     "user": {
      "displayName": "IACSD Akurdi",
      "userId": "10433988175144222979"
     },
     "user_tz": -330
    },
    "id": "kDXzi8tRYbpq"
   },
   "outputs": [],
   "source": [
    "import pandas as pd"
   ]
  },
  {
   "cell_type": "markdown",
   "metadata": {
    "id": "IeeyDUaLaf-r"
   },
   "source": [
    "# Check The Data given by Competetion\n",
    "\n",
    "training data : all columns\n",
    "\n",
    "Consider training data as full data and train test split on it\n",
    "\n",
    "\n",
    "test data : target columns missing : can't be used to evaluate our model"
   ]
  },
  {
   "cell_type": "code",
   "execution_count": 2,
   "metadata": {
    "executionInfo": {
     "elapsed": 1211,
     "status": "ok",
     "timestamp": 1674389547487,
     "user": {
      "displayName": "IACSD Akurdi",
      "userId": "10433988175144222979"
     },
     "user_tz": -330
    },
    "id": "o7rns_RnZKVB"
   },
   "outputs": [],
   "source": [
    "train_df = pd.read_csv(\"/content/drive/MyDrive/DBDA/PG-DBDA Sept 22/Study material/Practical_Machine_Learning/day10/train_jRxnrHD.csv\")"
   ]
  },
  {
   "cell_type": "code",
   "execution_count": 4,
   "metadata": {
    "colab": {
     "base_uri": "https://localhost:8080/"
    },
    "executionInfo": {
     "elapsed": 11,
     "status": "ok",
     "timestamp": 1674389593597,
     "user": {
      "displayName": "IACSD Akurdi",
      "userId": "10433988175144222979"
     },
     "user_tz": -330
    },
    "id": "F5Qqri7pZVUF",
    "outputId": "341307a5-8a87-4023-dbae-c9270a08dc8e"
   },
   "outputs": [
    {
     "name": "stdout",
     "output_type": "stream",
     "text": [
      "<class 'pandas.core.frame.DataFrame'>\n",
      "RangeIndex: 79853 entries, 0 to 79852\n",
      "Data columns (total 13 columns):\n",
      " #   Column                            Non-Null Count  Dtype  \n",
      "---  ------                            --------------  -----  \n",
      " 0   id                                79853 non-null  int64  \n",
      " 1   perc_premium_paid_by_cash_credit  79853 non-null  float64\n",
      " 2   age_in_days                       79853 non-null  int64  \n",
      " 3   Income                            79853 non-null  int64  \n",
      " 4   Count_3-6_months_late             79756 non-null  float64\n",
      " 5   Count_6-12_months_late            79756 non-null  float64\n",
      " 6   Count_more_than_12_months_late    79756 non-null  float64\n",
      " 7   application_underwriting_score    76879 non-null  float64\n",
      " 8   no_of_premiums_paid               79853 non-null  int64  \n",
      " 9   sourcing_channel                  79853 non-null  object \n",
      " 10  residence_area_type               79853 non-null  object \n",
      " 11  premium                           79853 non-null  int64  \n",
      " 12  target                            79853 non-null  int64  \n",
      "dtypes: float64(5), int64(6), object(2)\n",
      "memory usage: 7.9+ MB\n"
     ]
    }
   ],
   "source": [
    "train_df.info()"
   ]
  },
  {
   "cell_type": "code",
   "execution_count": 5,
   "metadata": {
    "executionInfo": {
     "elapsed": 485,
     "status": "ok",
     "timestamp": 1674389629807,
     "user": {
      "displayName": "IACSD Akurdi",
      "userId": "10433988175144222979"
     },
     "user_tz": -330
    },
    "id": "cIpnYRysZN9Z"
   },
   "outputs": [],
   "source": [
    "test_df = pd.read_csv(\"/content/drive/MyDrive/DBDA/PG-DBDA Sept 22/Study material/Practical_Machine_Learning/day10/test_QaJU1Mh.csv\")"
   ]
  },
  {
   "cell_type": "code",
   "execution_count": 6,
   "metadata": {
    "colab": {
     "base_uri": "https://localhost:8080/"
    },
    "executionInfo": {
     "elapsed": 5,
     "status": "ok",
     "timestamp": 1674389638940,
     "user": {
      "displayName": "IACSD Akurdi",
      "userId": "10433988175144222979"
     },
     "user_tz": -330
    },
    "id": "tnnDzBUMZT5J",
    "outputId": "2a29ab6c-8c94-46cb-f5b0-f9206be6c645"
   },
   "outputs": [
    {
     "name": "stdout",
     "output_type": "stream",
     "text": [
      "<class 'pandas.core.frame.DataFrame'>\n",
      "RangeIndex: 34224 entries, 0 to 34223\n",
      "Data columns (total 11 columns):\n",
      " #   Column                            Non-Null Count  Dtype  \n",
      "---  ------                            --------------  -----  \n",
      " 0   id                                34224 non-null  int64  \n",
      " 1   perc_premium_paid_by_cash_credit  34224 non-null  float64\n",
      " 2   age_in_days                       34224 non-null  int64  \n",
      " 3   Income                            34224 non-null  int64  \n",
      " 4   Count_3-6_months_late             34193 non-null  float64\n",
      " 5   Count_6-12_months_late            34193 non-null  float64\n",
      " 6   Count_more_than_12_months_late    34193 non-null  float64\n",
      " 7   application_underwriting_score    32901 non-null  float64\n",
      " 8   no_of_premiums_paid               34224 non-null  int64  \n",
      " 9   sourcing_channel                  34224 non-null  object \n",
      " 10  residence_area_type               34224 non-null  object \n",
      "dtypes: float64(5), int64(4), object(2)\n",
      "memory usage: 2.9+ MB\n"
     ]
    }
   ],
   "source": [
    "test_df.info()"
   ]
  },
  {
   "cell_type": "markdown",
   "metadata": {
    "id": "OcSWWrX_awAT"
   },
   "source": [
    "# Split the data"
   ]
  },
  {
   "cell_type": "code",
   "execution_count": 7,
   "metadata": {
    "executionInfo": {
     "elapsed": 7,
     "status": "ok",
     "timestamp": 1674389965503,
     "user": {
      "displayName": "IACSD Akurdi",
      "userId": "10433988175144222979"
     },
     "user_tz": -330
    },
    "id": "0OvS5CjFZkfw"
   },
   "outputs": [],
   "source": [
    "data = train_df.copy()"
   ]
  },
  {
   "cell_type": "markdown",
   "metadata": {
    "id": "TzBQgbFLa-27"
   },
   "source": [
    "## Here target is in column 12 'target'\n",
    "\n",
    "Premium is another target column which can be predicted for regression problem / multi-class problem"
   ]
  },
  {
   "cell_type": "code",
   "execution_count": 8,
   "metadata": {
    "executionInfo": {
     "elapsed": 845,
     "status": "ok",
     "timestamp": 1674390097497,
     "user": {
      "displayName": "IACSD Akurdi",
      "userId": "10433988175144222979"
     },
     "user_tz": -330
    },
    "id": "Fd6BENGuazx3"
   },
   "outputs": [],
   "source": [
    "X = data.drop(['premium', 'target'], axis=1)\n",
    "y = data.loc[:,'target']"
   ]
  },
  {
   "cell_type": "code",
   "execution_count": 9,
   "metadata": {
    "colab": {
     "base_uri": "https://localhost:8080/"
    },
    "executionInfo": {
     "elapsed": 7,
     "status": "ok",
     "timestamp": 1674390107080,
     "user": {
      "displayName": "IACSD Akurdi",
      "userId": "10433988175144222979"
     },
     "user_tz": -330
    },
    "id": "bW7zImnpbU78",
    "outputId": "d50d5109-f440-4bfe-aafe-f30bd74e9733"
   },
   "outputs": [
    {
     "data": {
      "text/plain": [
       "((79853, 11), (79853,))"
      ]
     },
     "execution_count": 9,
     "metadata": {},
     "output_type": "execute_result"
    }
   ],
   "source": [
    "X.shape, y.shape"
   ]
  },
  {
   "cell_type": "code",
   "execution_count": 10,
   "metadata": {
    "executionInfo": {
     "elapsed": 3,
     "status": "ok",
     "timestamp": 1674390327954,
     "user": {
      "displayName": "IACSD Akurdi",
      "userId": "10433988175144222979"
     },
     "user_tz": -330
    },
    "id": "aASlqg5QbWs1"
   },
   "outputs": [],
   "source": [
    "from sklearn.model_selection import train_test_split"
   ]
  },
  {
   "cell_type": "code",
   "execution_count": 11,
   "metadata": {
    "executionInfo": {
     "elapsed": 468,
     "status": "ok",
     "timestamp": 1674390386240,
     "user": {
      "displayName": "IACSD Akurdi",
      "userId": "10433988175144222979"
     },
     "user_tz": -330
    },
    "id": "1Z0NIFepcMuc"
   },
   "outputs": [],
   "source": [
    "X_train,X_test,y_train,y_test = train_test_split(X,y,\n",
    "                 test_size=0.3,\n",
    "                 random_state=7,\n",
    "                 stratify=y)"
   ]
  },
  {
   "cell_type": "code",
   "execution_count": 12,
   "metadata": {
    "colab": {
     "base_uri": "https://localhost:8080/"
    },
    "executionInfo": {
     "elapsed": 7,
     "status": "ok",
     "timestamp": 1674390407151,
     "user": {
      "displayName": "IACSD Akurdi",
      "userId": "10433988175144222979"
     },
     "user_tz": -330
    },
    "id": "kzN5eIr2cb0o",
    "outputId": "436c99e7-0cf9-4c5f-ee76-4132fb5a615b"
   },
   "outputs": [
    {
     "data": {
      "text/plain": [
       "((55897, 11), (23956, 11), (55897,), (23956,))"
      ]
     },
     "execution_count": 12,
     "metadata": {},
     "output_type": "execute_result"
    }
   ],
   "source": [
    "X_train.shape,X_test.shape,y_train.shape,y_test.shape"
   ]
  },
  {
   "cell_type": "code",
   "execution_count": 13,
   "metadata": {
    "colab": {
     "base_uri": "https://localhost:8080/"
    },
    "executionInfo": {
     "elapsed": 12,
     "status": "ok",
     "timestamp": 1674390443130,
     "user": {
      "displayName": "IACSD Akurdi",
      "userId": "10433988175144222979"
     },
     "user_tz": -330
    },
    "id": "51qaOpFscgEi",
    "outputId": "b2191053-e9e8-46fb-c00e-8309acab9c4a"
   },
   "outputs": [
    {
     "data": {
      "text/plain": [
       "1    0.937397\n",
       "0    0.062603\n",
       "Name: target, dtype: float64"
      ]
     },
     "execution_count": 13,
     "metadata": {},
     "output_type": "execute_result"
    }
   ],
   "source": [
    "y.value_counts(normalize=True)"
   ]
  },
  {
   "cell_type": "code",
   "execution_count": 14,
   "metadata": {
    "colab": {
     "base_uri": "https://localhost:8080/"
    },
    "executionInfo": {
     "elapsed": 8,
     "status": "ok",
     "timestamp": 1674390482280,
     "user": {
      "displayName": "IACSD Akurdi",
      "userId": "10433988175144222979"
     },
     "user_tz": -330
    },
    "id": "dIrh5nnFco6T",
    "outputId": "afd5a03f-3e5e-4415-c152-ecf4fa7767c4"
   },
   "outputs": [
    {
     "data": {
      "text/plain": [
       "1    0.937403\n",
       "0    0.062597\n",
       "Name: target, dtype: float64"
      ]
     },
     "execution_count": 14,
     "metadata": {},
     "output_type": "execute_result"
    }
   ],
   "source": [
    "y_train.value_counts(normalize=True)"
   ]
  },
  {
   "cell_type": "code",
   "execution_count": 15,
   "metadata": {
    "colab": {
     "base_uri": "https://localhost:8080/"
    },
    "executionInfo": {
     "elapsed": 7,
     "status": "ok",
     "timestamp": 1674390487921,
     "user": {
      "displayName": "IACSD Akurdi",
      "userId": "10433988175144222979"
     },
     "user_tz": -330
    },
    "id": "3h3Bmf15cvpw",
    "outputId": "093f6510-0f01-4b32-9719-4b34a3fb4931"
   },
   "outputs": [
    {
     "data": {
      "text/plain": [
       "1    0.937385\n",
       "0    0.062615\n",
       "Name: target, dtype: float64"
      ]
     },
     "execution_count": 15,
     "metadata": {},
     "output_type": "execute_result"
    }
   ],
   "source": [
    "y_test.value_counts(normalize=True)"
   ]
  },
  {
   "cell_type": "markdown",
   "metadata": {
    "id": "nxKEM6VVdbWu"
   },
   "source": [
    "# Preprocessing\n",
    "\n",
    "- Remove the id columns or columns with unique values \n",
    "\n",
    "here remove id column\n",
    "\n",
    "- Remove columns which contain ONLY one value\n",
    "\n",
    "- Remove columns / rows containing NAs more than threshold\n",
    "\n",
    "- Fill missing values with median\n",
    "\n",
    "- Encode the string columns\n"
   ]
  },
  {
   "cell_type": "markdown",
   "metadata": {
    "id": "aPN9anWQfADr"
   },
   "source": [
    "## Remove the id columns or columns with unique values "
   ]
  },
  {
   "cell_type": "code",
   "execution_count": 19,
   "metadata": {
    "executionInfo": {
     "elapsed": 4,
     "status": "ok",
     "timestamp": 1674391094992,
     "user": {
      "displayName": "IACSD Akurdi",
      "userId": "10433988175144222979"
     },
     "user_tz": -330
    },
    "id": "N_t1GLM6fBIN"
   },
   "outputs": [],
   "source": [
    "drop_columns = ['id']\n",
    "X_train.drop(drop_columns,axis=1,inplace=True)"
   ]
  },
  {
   "cell_type": "markdown",
   "metadata": {
    "id": "2vunIYbPeJ6e"
   },
   "source": [
    "## columns which contain ONLY one value\n",
    "\n",
    "NO columns "
   ]
  },
  {
   "cell_type": "code",
   "execution_count": 20,
   "metadata": {
    "colab": {
     "base_uri": "https://localhost:8080/"
    },
    "executionInfo": {
     "elapsed": 456,
     "status": "ok",
     "timestamp": 1674391103524,
     "user": {
      "displayName": "IACSD Akurdi",
      "userId": "10433988175144222979"
     },
     "user_tz": -330
    },
    "id": "TX63OkBAcz1C",
    "outputId": "524d77f8-ece5-4d14-81cb-ab270fc617f8"
   },
   "outputs": [
    {
     "data": {
      "text/plain": [
       "perc_premium_paid_by_cash_credit     1001\n",
       "age_in_days                           823\n",
       "Income                              19701\n",
       "Count_3-6_months_late                  14\n",
       "Count_6-12_months_late                 14\n",
       "Count_more_than_12_months_late         10\n",
       "application_underwriting_score        619\n",
       "no_of_premiums_paid                    55\n",
       "sourcing_channel                        5\n",
       "residence_area_type                     2\n",
       "dtype: int64"
      ]
     },
     "execution_count": 20,
     "metadata": {},
     "output_type": "execute_result"
    }
   ],
   "source": [
    "X_train.nunique()"
   ]
  },
  {
   "cell_type": "markdown",
   "metadata": {
    "id": "eEd5O49FeWGr"
   },
   "source": [
    "## columns / rows containing NAs more than threshold\n",
    "\n",
    "NO columns"
   ]
  },
  {
   "cell_type": "code",
   "execution_count": 21,
   "metadata": {
    "colab": {
     "base_uri": "https://localhost:8080/"
    },
    "executionInfo": {
     "elapsed": 471,
     "status": "ok",
     "timestamp": 1674391112740,
     "user": {
      "displayName": "IACSD Akurdi",
      "userId": "10433988175144222979"
     },
     "user_tz": -330
    },
    "id": "OEiW1B6yeMrB",
    "outputId": "f0cf0703-04c8-4c62-e50c-d4653dcdd6b1"
   },
   "outputs": [
    {
     "data": {
      "text/plain": [
       "perc_premium_paid_by_cash_credit    0.000000\n",
       "age_in_days                         0.000000\n",
       "Income                              0.000000\n",
       "Count_3-6_months_late               0.001234\n",
       "Count_6-12_months_late              0.001234\n",
       "Count_more_than_12_months_late      0.001234\n",
       "application_underwriting_score      0.037426\n",
       "no_of_premiums_paid                 0.000000\n",
       "sourcing_channel                    0.000000\n",
       "residence_area_type                 0.000000\n",
       "dtype: float64"
      ]
     },
     "execution_count": 21,
     "metadata": {},
     "output_type": "execute_result"
    }
   ],
   "source": [
    "X_train.isna().sum()/ X_train.shape[0]"
   ]
  },
  {
   "cell_type": "markdown",
   "metadata": {
    "id": "ZR4pxiAbet6T"
   },
   "source": [
    "## Fill missing values with median"
   ]
  },
  {
   "cell_type": "code",
   "execution_count": 22,
   "metadata": {
    "colab": {
     "base_uri": "https://localhost:8080/"
    },
    "executionInfo": {
     "elapsed": 751,
     "status": "ok",
     "timestamp": 1674391118710,
     "user": {
      "displayName": "IACSD Akurdi",
      "userId": "10433988175144222979"
     },
     "user_tz": -330
    },
    "id": "QZ-bHbGae6Gu",
    "outputId": "a6858b3c-75a1-454d-d568-5ad7cfff0c41"
   },
   "outputs": [
    {
     "name": "stderr",
     "output_type": "stream",
     "text": [
      "<ipython-input-22-425e5a37bb65>:1: FutureWarning: Dropping of nuisance columns in DataFrame reductions (with 'numeric_only=None') is deprecated; in a future version this will raise TypeError.  Select only valid columns before calling the reduction.\n",
      "  fill_value = X_train.median()\n"
     ]
    }
   ],
   "source": [
    "fill_value = X_train.median()"
   ]
  },
  {
   "cell_type": "code",
   "execution_count": 23,
   "metadata": {
    "executionInfo": {
     "elapsed": 7,
     "status": "ok",
     "timestamp": 1674391181908,
     "user": {
      "displayName": "IACSD Akurdi",
      "userId": "10433988175144222979"
     },
     "user_tz": -330
    },
    "id": "XC-ckxCPeaA3"
   },
   "outputs": [],
   "source": [
    "X_train.fillna(fill_value, inplace=True)"
   ]
  },
  {
   "cell_type": "markdown",
   "metadata": {
    "id": "3ZNmfLO3fhwz"
   },
   "source": [
    "# Encode the string columns\n",
    "\n",
    "- ONE hot encoding"
   ]
  },
  {
   "cell_type": "code",
   "execution_count": 24,
   "metadata": {
    "colab": {
     "base_uri": "https://localhost:8080/"
    },
    "executionInfo": {
     "elapsed": 7,
     "status": "ok",
     "timestamp": 1674391226941,
     "user": {
      "displayName": "IACSD Akurdi",
      "userId": "10433988175144222979"
     },
     "user_tz": -330
    },
    "id": "kcQ2aGWafdP-",
    "outputId": "08372b5f-5f8a-4e3d-c72d-67359377dac4"
   },
   "outputs": [
    {
     "data": {
      "text/plain": [
       "Index(['sourcing_channel', 'residence_area_type'], dtype='object')"
      ]
     },
     "execution_count": 24,
     "metadata": {},
     "output_type": "execute_result"
    }
   ],
   "source": [
    "X_train.select_dtypes(include='object').columns"
   ]
  },
  {
   "cell_type": "code",
   "execution_count": 26,
   "metadata": {
    "executionInfo": {
     "elapsed": 458,
     "status": "ok",
     "timestamp": 1674391325748,
     "user": {
      "displayName": "IACSD Akurdi",
      "userId": "10433988175144222979"
     },
     "user_tz": -330
    },
    "id": "B23X2tCffsTN"
   },
   "outputs": [],
   "source": [
    "X_train = pd.get_dummies(X_train)"
   ]
  },
  {
   "cell_type": "code",
   "execution_count": 27,
   "metadata": {
    "colab": {
     "base_uri": "https://localhost:8080/"
    },
    "executionInfo": {
     "elapsed": 515,
     "status": "ok",
     "timestamp": 1674391338454,
     "user": {
      "displayName": "IACSD Akurdi",
      "userId": "10433988175144222979"
     },
     "user_tz": -330
    },
    "id": "CDlNNXgRgBSq",
    "outputId": "d4c65a03-f657-40c8-9c91-9f7ffa858dfe"
   },
   "outputs": [
    {
     "data": {
      "text/plain": [
       "(55897, 15)"
      ]
     },
     "execution_count": 27,
     "metadata": {},
     "output_type": "execute_result"
    }
   ],
   "source": [
    "X_train.shape"
   ]
  },
  {
   "cell_type": "code",
   "execution_count": 28,
   "metadata": {
    "colab": {
     "base_uri": "https://localhost:8080/"
    },
    "executionInfo": {
     "elapsed": 7,
     "status": "ok",
     "timestamp": 1674391346815,
     "user": {
      "displayName": "IACSD Akurdi",
      "userId": "10433988175144222979"
     },
     "user_tz": -330
    },
    "id": "KywExXbVgDd9",
    "outputId": "ef0117fa-7700-4fad-b83b-11b24e7de8db"
   },
   "outputs": [
    {
     "data": {
      "text/plain": [
       "Index(['perc_premium_paid_by_cash_credit', 'age_in_days', 'Income',\n",
       "       'Count_3-6_months_late', 'Count_6-12_months_late',\n",
       "       'Count_more_than_12_months_late', 'application_underwriting_score',\n",
       "       'no_of_premiums_paid', 'sourcing_channel_A', 'sourcing_channel_B',\n",
       "       'sourcing_channel_C', 'sourcing_channel_D', 'sourcing_channel_E',\n",
       "       'residence_area_type_Rural', 'residence_area_type_Urban'],\n",
       "      dtype='object')"
      ]
     },
     "execution_count": 28,
     "metadata": {},
     "output_type": "execute_result"
    }
   ],
   "source": [
    "X_train.columns"
   ]
  },
  {
   "cell_type": "markdown",
   "metadata": {
    "id": "KwAbg1jFgpoB"
   },
   "source": [
    "## Standardization\n",
    "\n",
    "ONLY on numeric columns and not for categorical columns"
   ]
  },
  {
   "cell_type": "code",
   "execution_count": 29,
   "metadata": {
    "executionInfo": {
     "elapsed": 478,
     "status": "ok",
     "timestamp": 1674391556626,
     "user": {
      "displayName": "IACSD Akurdi",
      "userId": "10433988175144222979"
     },
     "user_tz": -330
    },
    "id": "xkT9apCMgFhs"
   },
   "outputs": [],
   "source": [
    "cat_columns = ['sourcing_channel', 'residence_area_type']"
   ]
  },
  {
   "cell_type": "code",
   "execution_count": 30,
   "metadata": {
    "executionInfo": {
     "elapsed": 451,
     "status": "ok",
     "timestamp": 1674391603281,
     "user": {
      "displayName": "IACSD Akurdi",
      "userId": "10433988175144222979"
     },
     "user_tz": -330
    },
    "id": "qnMZw5b9g6fh"
   },
   "outputs": [],
   "source": [
    "num_columns = ['perc_premium_paid_by_cash_credit', 'age_in_days', 'Income',\n",
    "       'Count_3-6_months_late', 'Count_6-12_months_late',\n",
    "       'Count_more_than_12_months_late', 'application_underwriting_score',\n",
    "       'no_of_premiums_paid']"
   ]
  },
  {
   "cell_type": "code",
   "execution_count": 31,
   "metadata": {
    "executionInfo": {
     "elapsed": 456,
     "status": "ok",
     "timestamp": 1674391725112,
     "user": {
      "displayName": "IACSD Akurdi",
      "userId": "10433988175144222979"
     },
     "user_tz": -330
    },
    "id": "VRP3ojVlhNJ4"
   },
   "outputs": [],
   "source": [
    "from sklearn.preprocessing import StandardScaler"
   ]
  },
  {
   "cell_type": "code",
   "execution_count": 32,
   "metadata": {
    "executionInfo": {
     "elapsed": 521,
     "status": "ok",
     "timestamp": 1674391766742,
     "user": {
      "displayName": "IACSD Akurdi",
      "userId": "10433988175144222979"
     },
     "user_tz": -330
    },
    "id": "0GORDJkfhoze"
   },
   "outputs": [],
   "source": [
    "std = StandardScaler()"
   ]
  },
  {
   "cell_type": "code",
   "execution_count": 33,
   "metadata": {
    "colab": {
     "base_uri": "https://localhost:8080/"
    },
    "executionInfo": {
     "elapsed": 499,
     "status": "ok",
     "timestamp": 1674391782312,
     "user": {
      "displayName": "IACSD Akurdi",
      "userId": "10433988175144222979"
     },
     "user_tz": -330
    },
    "id": "RbEJo3R6hEev",
    "outputId": "ebb53523-7259-463c-be25-af635ce18139"
   },
   "outputs": [
    {
     "data": {
      "text/plain": [
       "StandardScaler()"
      ]
     },
     "execution_count": 33,
     "metadata": {},
     "output_type": "execute_result"
    }
   ],
   "source": [
    "std.fit(X_train.loc[:, num_columns])"
   ]
  },
  {
   "cell_type": "markdown",
   "metadata": {
    "id": "KALdYE9Qp7L6"
   },
   "source": [
    "### Method 1"
   ]
  },
  {
   "cell_type": "code",
   "execution_count": 36,
   "metadata": {
    "executionInfo": {
     "elapsed": 7,
     "status": "ok",
     "timestamp": 1674391900752,
     "user": {
      "displayName": "IACSD Akurdi",
      "userId": "10433988175144222979"
     },
     "user_tz": -330
    },
    "id": "IQh_1cz_hwz-"
   },
   "outputs": [],
   "source": [
    "trans_data = std.transform(X_train.loc[:, num_columns])\n",
    "X_train_trans = pd.DataFrame(trans_data,\\\n",
    "                             columns = num_columns,\\\n",
    "                             index = X_train.index)"
   ]
  },
  {
   "cell_type": "code",
   "execution_count": 38,
   "metadata": {
    "executionInfo": {
     "elapsed": 502,
     "status": "ok",
     "timestamp": 1674392128128,
     "user": {
      "displayName": "IACSD Akurdi",
      "userId": "10433988175144222979"
     },
     "user_tz": -330
    },
    "id": "iLvj0Ce-jBrd"
   },
   "outputs": [],
   "source": [
    "ohe_columns = ['sourcing_channel_A', 'sourcing_channel_B',\n",
    "       'sourcing_channel_C', 'sourcing_channel_D', 'sourcing_channel_E',\n",
    "       'residence_area_type_Rural', 'residence_area_type_Urban']"
   ]
  },
  {
   "cell_type": "code",
   "execution_count": 37,
   "metadata": {
    "executionInfo": {
     "elapsed": 3080,
     "status": "ok",
     "timestamp": 1674392030480,
     "user": {
      "displayName": "IACSD Akurdi",
      "userId": "10433988175144222979"
     },
     "user_tz": -330
    },
    "id": "QwgfyFA_iN9l"
   },
   "outputs": [],
   "source": [
    "cat_df = X_train.loc[:, ['sourcing_channel_A', 'sourcing_channel_B',\n",
    "       'sourcing_channel_C', 'sourcing_channel_D', 'sourcing_channel_E',\n",
    "       'residence_area_type_Rural', 'residence_area_type_Urban']]"
   ]
  },
  {
   "cell_type": "code",
   "execution_count": 39,
   "metadata": {
    "executionInfo": {
     "elapsed": 743,
     "status": "ok",
     "timestamp": 1674392387323,
     "user": {
      "displayName": "IACSD Akurdi",
      "userId": "10433988175144222979"
     },
     "user_tz": -330
    },
    "id": "i7dH8v1divQN"
   },
   "outputs": [],
   "source": [
    "X_train_final = pd.concat([X_train_trans, cat_df], axis=1)"
   ]
  },
  {
   "cell_type": "code",
   "execution_count": 41,
   "metadata": {
    "colab": {
     "base_uri": "https://localhost:8080/"
    },
    "executionInfo": {
     "elapsed": 13,
     "status": "ok",
     "timestamp": 1674392408333,
     "user": {
      "displayName": "IACSD Akurdi",
      "userId": "10433988175144222979"
     },
     "user_tz": -330
    },
    "id": "aLujBaMtkD2N",
    "outputId": "633c6d6b-a6c1-4d14-d79b-68747a670400"
   },
   "outputs": [
    {
     "data": {
      "text/plain": [
       "((55897, 15), (55897, 15))"
      ]
     },
     "execution_count": 41,
     "metadata": {},
     "output_type": "execute_result"
    }
   ],
   "source": [
    "X_train_final.shape, X_train.shape"
   ]
  },
  {
   "cell_type": "markdown",
   "metadata": {
    "id": "KwdVyNWbkg_R"
   },
   "source": [
    "### Another syntax"
   ]
  },
  {
   "cell_type": "code",
   "execution_count": 42,
   "metadata": {
    "executionInfo": {
     "elapsed": 462,
     "status": "ok",
     "timestamp": 1674392612366,
     "user": {
      "displayName": "IACSD Akurdi",
      "userId": "10433988175144222979"
     },
     "user_tz": -330
    },
    "id": "YAqWXDOAkx8p"
   },
   "outputs": [],
   "source": [
    "X_train_sc = X_train.copy()"
   ]
  },
  {
   "cell_type": "code",
   "execution_count": 43,
   "metadata": {
    "executionInfo": {
     "elapsed": 6,
     "status": "ok",
     "timestamp": 1674392614200,
     "user": {
      "displayName": "IACSD Akurdi",
      "userId": "10433988175144222979"
     },
     "user_tz": -330
    },
    "id": "ahOo8EmAkEgd"
   },
   "outputs": [],
   "source": [
    "X_train_sc.loc[:, num_columns] = std.transform(X_train_sc.loc[:, num_columns])"
   ]
  },
  {
   "cell_type": "code",
   "execution_count": 44,
   "metadata": {
    "colab": {
     "base_uri": "https://localhost:8080/"
    },
    "executionInfo": {
     "elapsed": 483,
     "status": "ok",
     "timestamp": 1674392627413,
     "user": {
      "displayName": "IACSD Akurdi",
      "userId": "10433988175144222979"
     },
     "user_tz": -330
    },
    "id": "Nn6ekZ9hk9OQ",
    "outputId": "e4dbc570-60e3-4028-869c-f81d20816bdd"
   },
   "outputs": [
    {
     "data": {
      "text/plain": [
       "((55897, 15), (55897, 15))"
      ]
     },
     "execution_count": 44,
     "metadata": {},
     "output_type": "execute_result"
    }
   ],
   "source": [
    "X_train_sc.shape, X_train.shape"
   ]
  },
  {
   "cell_type": "markdown",
   "metadata": {
    "id": "TQiJlsiMqCiR"
   },
   "source": [
    "# Outlier Handling\n",
    "\n",
    "- impute the outliers in numeric columns using IQR method\n",
    "\n",
    "IQR = Q3 - Q1\n",
    "\n",
    "min_val_val = Q1 - 1.5 IQR\n",
    "\n",
    "max_val_val = Q3 + 1.5 IQR"
   ]
  },
  {
   "cell_type": "code",
   "execution_count": 45,
   "metadata": {
    "executionInfo": {
     "elapsed": 453,
     "status": "ok",
     "timestamp": 1674394592917,
     "user": {
      "displayName": "IACSD Akurdi",
      "userId": "10433988175144222979"
     },
     "user_tz": -330
    },
    "id": "bfCI1D4Dk-PE"
   },
   "outputs": [],
   "source": [
    "def impute_IQR(df, col):\n",
    "    q1,q3 = df[col].quantile([0.25, 0.75])\n",
    "    iqr = q3-q1\n",
    "    min_val_val = q1 - 1.5 * iqr\n",
    "    max_val_val = q3 + 1.5 * iqr\n",
    "    df.loc[df[col] < min_val_val , col] = min_val_val\n",
    "    df.loc[df[col] > max_val_val , col] = max_val_val\n",
    "    return df"
   ]
  },
  {
   "cell_type": "code",
   "execution_count": 46,
   "metadata": {
    "executionInfo": {
     "elapsed": 482,
     "status": "ok",
     "timestamp": 1674394727760,
     "user": {
      "displayName": "IACSD Akurdi",
      "userId": "10433988175144222979"
     },
     "user_tz": -330
    },
    "id": "FsluulA8sgPT"
   },
   "outputs": [],
   "source": [
    "for col in num_columns:\n",
    "    X_train_sc = impute_IQR(X_train_sc,col)"
   ]
  },
  {
   "cell_type": "code",
   "execution_count": 47,
   "metadata": {
    "colab": {
     "base_uri": "https://localhost:8080/",
     "height": 364
    },
    "executionInfo": {
     "elapsed": 768,
     "status": "ok",
     "timestamp": 1674394739161,
     "user": {
      "displayName": "IACSD Akurdi",
      "userId": "10433988175144222979"
     },
     "user_tz": -330
    },
    "id": "qr4Fhh6OtAJi",
    "outputId": "c66850d2-9f72-4feb-8bbd-642eabc5a037"
   },
   "outputs": [
    {
     "data": {
      "text/html": [
       "\n",
       "  <div id=\"df-131430e6-2e1a-44e0-a299-85367c6f675b\">\n",
       "    <div class=\"colab-df-container\">\n",
       "      <div>\n",
       "<style scoped>\n",
       "    .dataframe tbody tr th:only-of-type {\n",
       "        vertical-align: middle;\n",
       "    }\n",
       "\n",
       "    .dataframe tbody tr th {\n",
       "        vertical-align: top;\n",
       "    }\n",
       "\n",
       "    .dataframe thead th {\n",
       "        text-align: right;\n",
       "    }\n",
       "</style>\n",
       "<table border=\"1\" class=\"dataframe\">\n",
       "  <thead>\n",
       "    <tr style=\"text-align: right;\">\n",
       "      <th></th>\n",
       "      <th>perc_premium_paid_by_cash_credit</th>\n",
       "      <th>age_in_days</th>\n",
       "      <th>Income</th>\n",
       "      <th>Count_3-6_months_late</th>\n",
       "      <th>Count_6-12_months_late</th>\n",
       "      <th>Count_more_than_12_months_late</th>\n",
       "      <th>application_underwriting_score</th>\n",
       "      <th>no_of_premiums_paid</th>\n",
       "      <th>sourcing_channel_A</th>\n",
       "      <th>sourcing_channel_B</th>\n",
       "      <th>sourcing_channel_C</th>\n",
       "      <th>sourcing_channel_D</th>\n",
       "      <th>sourcing_channel_E</th>\n",
       "      <th>residence_area_type_Rural</th>\n",
       "      <th>residence_area_type_Urban</th>\n",
       "    </tr>\n",
       "  </thead>\n",
       "  <tbody>\n",
       "    <tr>\n",
       "      <th>count</th>\n",
       "      <td>5.589700e+04</td>\n",
       "      <td>55897.000000</td>\n",
       "      <td>55897.000000</td>\n",
       "      <td>5.589700e+04</td>\n",
       "      <td>5.589700e+04</td>\n",
       "      <td>5.589700e+04</td>\n",
       "      <td>55897.000000</td>\n",
       "      <td>55897.000000</td>\n",
       "      <td>55897.000000</td>\n",
       "      <td>55897.000000</td>\n",
       "      <td>55897.000000</td>\n",
       "      <td>55897.000000</td>\n",
       "      <td>55897.000000</td>\n",
       "      <td>55897.000000</td>\n",
       "      <td>55897.000000</td>\n",
       "    </tr>\n",
       "    <tr>\n",
       "      <th>mean</th>\n",
       "      <td>1.738953e-16</td>\n",
       "      <td>-0.000119</td>\n",
       "      <td>-0.035176</td>\n",
       "      <td>-3.590767e-01</td>\n",
       "      <td>-1.819266e-01</td>\n",
       "      <td>-1.927652e-01</td>\n",
       "      <td>0.064836</td>\n",
       "      <td>-0.015266</td>\n",
       "      <td>0.541782</td>\n",
       "      <td>0.205521</td>\n",
       "      <td>0.150903</td>\n",
       "      <td>0.093905</td>\n",
       "      <td>0.007890</td>\n",
       "      <td>0.395012</td>\n",
       "      <td>0.604988</td>\n",
       "    </tr>\n",
       "    <tr>\n",
       "      <th>std</th>\n",
       "      <td>1.000009e+00</td>\n",
       "      <td>0.999640</td>\n",
       "      <td>0.231203</td>\n",
       "      <td>1.110233e-16</td>\n",
       "      <td>8.326747e-17</td>\n",
       "      <td>2.775582e-17</td>\n",
       "      <td>0.754254</td>\n",
       "      <td>0.943460</td>\n",
       "      <td>0.498256</td>\n",
       "      <td>0.404085</td>\n",
       "      <td>0.357957</td>\n",
       "      <td>0.291699</td>\n",
       "      <td>0.088473</td>\n",
       "      <td>0.488858</td>\n",
       "      <td>0.488858</td>\n",
       "    </tr>\n",
       "    <tr>\n",
       "      <th>min</th>\n",
       "      <td>-9.387686e-01</td>\n",
       "      <td>-2.140568</td>\n",
       "      <td>-0.385765</td>\n",
       "      <td>-3.590767e-01</td>\n",
       "      <td>-1.819266e-01</td>\n",
       "      <td>-1.927652e-01</td>\n",
       "      <td>-1.763352</td>\n",
       "      <td>-1.713579</td>\n",
       "      <td>0.000000</td>\n",
       "      <td>0.000000</td>\n",
       "      <td>0.000000</td>\n",
       "      <td>0.000000</td>\n",
       "      <td>0.000000</td>\n",
       "      <td>0.000000</td>\n",
       "      <td>0.000000</td>\n",
       "    </tr>\n",
       "    <tr>\n",
       "      <th>25%</th>\n",
       "      <td>-8.372128e-01</td>\n",
       "      <td>-0.739383</td>\n",
       "      <td>-0.210678</td>\n",
       "      <td>-3.590767e-01</td>\n",
       "      <td>-1.819266e-01</td>\n",
       "      <td>-1.927652e-01</td>\n",
       "      <td>-0.333553</td>\n",
       "      <td>-0.746551</td>\n",
       "      <td>0.000000</td>\n",
       "      <td>0.000000</td>\n",
       "      <td>0.000000</td>\n",
       "      <td>0.000000</td>\n",
       "      <td>0.000000</td>\n",
       "      <td>0.000000</td>\n",
       "      <td>0.000000</td>\n",
       "    </tr>\n",
       "    <tr>\n",
       "      <th>50%</th>\n",
       "      <td>-4.399504e-01</td>\n",
       "      <td>-0.039173</td>\n",
       "      <td>-0.089180</td>\n",
       "      <td>-3.590767e-01</td>\n",
       "      <td>-1.819266e-01</td>\n",
       "      <td>-1.927652e-01</td>\n",
       "      <td>0.191397</td>\n",
       "      <td>-0.166334</td>\n",
       "      <td>1.000000</td>\n",
       "      <td>0.000000</td>\n",
       "      <td>0.000000</td>\n",
       "      <td>0.000000</td>\n",
       "      <td>0.000000</td>\n",
       "      <td>0.000000</td>\n",
       "      <td>1.000000</td>\n",
       "    </tr>\n",
       "    <tr>\n",
       "      <th>75%</th>\n",
       "      <td>6.741763e-01</td>\n",
       "      <td>0.730481</td>\n",
       "      <td>0.091749</td>\n",
       "      <td>-3.590767e-01</td>\n",
       "      <td>-1.819266e-01</td>\n",
       "      <td>-1.927652e-01</td>\n",
       "      <td>0.619645</td>\n",
       "      <td>0.607288</td>\n",
       "      <td>1.000000</td>\n",
       "      <td>0.000000</td>\n",
       "      <td>0.000000</td>\n",
       "      <td>0.000000</td>\n",
       "      <td>0.000000</td>\n",
       "      <td>1.000000</td>\n",
       "      <td>1.000000</td>\n",
       "    </tr>\n",
       "    <tr>\n",
       "      <th>max</th>\n",
       "      <td>2.048166e+00</td>\n",
       "      <td>2.935277</td>\n",
       "      <td>0.545391</td>\n",
       "      <td>-3.590767e-01</td>\n",
       "      <td>-1.819266e-01</td>\n",
       "      <td>-1.927652e-01</td>\n",
       "      <td>1.130781</td>\n",
       "      <td>2.638047</td>\n",
       "      <td>1.000000</td>\n",
       "      <td>1.000000</td>\n",
       "      <td>1.000000</td>\n",
       "      <td>1.000000</td>\n",
       "      <td>1.000000</td>\n",
       "      <td>1.000000</td>\n",
       "      <td>1.000000</td>\n",
       "    </tr>\n",
       "  </tbody>\n",
       "</table>\n",
       "</div>\n",
       "      <button class=\"colab-df-convert\" onclick=\"convertToInteractive('df-131430e6-2e1a-44e0-a299-85367c6f675b')\"\n",
       "              title=\"Convert this dataframe to an interactive table.\"\n",
       "              style=\"display:none;\">\n",
       "        \n",
       "  <svg xmlns=\"http://www.w3.org/2000/svg\" height=\"24px\"viewBox=\"0 0 24 24\"\n",
       "       width=\"24px\">\n",
       "    <path d=\"M0 0h24v24H0V0z\" fill=\"none\"/>\n",
       "    <path d=\"M18.56 5.44l.94 2.06.94-2.06 2.06-.94-2.06-.94-.94-2.06-.94 2.06-2.06.94zm-11 1L8.5 8.5l.94-2.06 2.06-.94-2.06-.94L8.5 2.5l-.94 2.06-2.06.94zm10 10l.94 2.06.94-2.06 2.06-.94-2.06-.94-.94-2.06-.94 2.06-2.06.94z\"/><path d=\"M17.41 7.96l-1.37-1.37c-.4-.4-.92-.59-1.43-.59-.52 0-1.04.2-1.43.59L10.3 9.45l-7.72 7.72c-.78.78-.78 2.05 0 2.83L4 21.41c.39.39.9.59 1.41.59.51 0 1.02-.2 1.41-.59l7.78-7.78 2.81-2.81c.8-.78.8-2.07 0-2.86zM5.41 20L4 18.59l7.72-7.72 1.47 1.35L5.41 20z\"/>\n",
       "  </svg>\n",
       "      </button>\n",
       "      \n",
       "  <style>\n",
       "    .colab-df-container {\n",
       "      display:flex;\n",
       "      flex-wrap:wrap;\n",
       "      gap: 12px;\n",
       "    }\n",
       "\n",
       "    .colab-df-convert {\n",
       "      background-color: #E8F0FE;\n",
       "      border: none;\n",
       "      border-radius: 50%;\n",
       "      cursor: pointer;\n",
       "      display: none;\n",
       "      fill: #1967D2;\n",
       "      height: 32px;\n",
       "      padding: 0 0 0 0;\n",
       "      width: 32px;\n",
       "    }\n",
       "\n",
       "    .colab-df-convert:hover {\n",
       "      background-color: #E2EBFA;\n",
       "      box-shadow: 0px 1px 2px rgba(60, 64, 67, 0.3), 0px 1px 3px 1px rgba(60, 64, 67, 0.15);\n",
       "      fill: #174EA6;\n",
       "    }\n",
       "\n",
       "    [theme=dark] .colab-df-convert {\n",
       "      background-color: #3B4455;\n",
       "      fill: #D2E3FC;\n",
       "    }\n",
       "\n",
       "    [theme=dark] .colab-df-convert:hover {\n",
       "      background-color: #434B5C;\n",
       "      box-shadow: 0px 1px 3px 1px rgba(0, 0, 0, 0.15);\n",
       "      filter: drop-shadow(0px 1px 2px rgba(0, 0, 0, 0.3));\n",
       "      fill: #FFFFFF;\n",
       "    }\n",
       "  </style>\n",
       "\n",
       "      <script>\n",
       "        const buttonEl =\n",
       "          document.querySelector('#df-131430e6-2e1a-44e0-a299-85367c6f675b button.colab-df-convert');\n",
       "        buttonEl.style.display =\n",
       "          google.colab.kernel.accessAllowed ? 'block' : 'none';\n",
       "\n",
       "        async function convertToInteractive(key) {\n",
       "          const element = document.querySelector('#df-131430e6-2e1a-44e0-a299-85367c6f675b');\n",
       "          const dataTable =\n",
       "            await google.colab.kernel.invokeFunction('convertToInteractive',\n",
       "                                                     [key], {});\n",
       "          if (!dataTable) return;\n",
       "\n",
       "          const docLinkHtml = 'Like what you see? Visit the ' +\n",
       "            '<a target=\"_blank\" href=https://colab.research.google.com/notebooks/data_table.ipynb>data table notebook</a>'\n",
       "            + ' to learn more about interactive tables.';\n",
       "          element.innerHTML = '';\n",
       "          dataTable['output_type'] = 'display_data';\n",
       "          await google.colab.output.renderOutput(dataTable, element);\n",
       "          const docLink = document.createElement('div');\n",
       "          docLink.innerHTML = docLinkHtml;\n",
       "          element.appendChild(docLink);\n",
       "        }\n",
       "      </script>\n",
       "    </div>\n",
       "  </div>\n",
       "  "
      ],
      "text/plain": [
       "       perc_premium_paid_by_cash_credit   age_in_days        Income  \\\n",
       "count                      5.589700e+04  55897.000000  55897.000000   \n",
       "mean                       1.738953e-16     -0.000119     -0.035176   \n",
       "std                        1.000009e+00      0.999640      0.231203   \n",
       "min                       -9.387686e-01     -2.140568     -0.385765   \n",
       "25%                       -8.372128e-01     -0.739383     -0.210678   \n",
       "50%                       -4.399504e-01     -0.039173     -0.089180   \n",
       "75%                        6.741763e-01      0.730481      0.091749   \n",
       "max                        2.048166e+00      2.935277      0.545391   \n",
       "\n",
       "       Count_3-6_months_late  Count_6-12_months_late  \\\n",
       "count           5.589700e+04            5.589700e+04   \n",
       "mean           -3.590767e-01           -1.819266e-01   \n",
       "std             1.110233e-16            8.326747e-17   \n",
       "min            -3.590767e-01           -1.819266e-01   \n",
       "25%            -3.590767e-01           -1.819266e-01   \n",
       "50%            -3.590767e-01           -1.819266e-01   \n",
       "75%            -3.590767e-01           -1.819266e-01   \n",
       "max            -3.590767e-01           -1.819266e-01   \n",
       "\n",
       "       Count_more_than_12_months_late  application_underwriting_score  \\\n",
       "count                    5.589700e+04                    55897.000000   \n",
       "mean                    -1.927652e-01                        0.064836   \n",
       "std                      2.775582e-17                        0.754254   \n",
       "min                     -1.927652e-01                       -1.763352   \n",
       "25%                     -1.927652e-01                       -0.333553   \n",
       "50%                     -1.927652e-01                        0.191397   \n",
       "75%                     -1.927652e-01                        0.619645   \n",
       "max                     -1.927652e-01                        1.130781   \n",
       "\n",
       "       no_of_premiums_paid  sourcing_channel_A  sourcing_channel_B  \\\n",
       "count         55897.000000        55897.000000        55897.000000   \n",
       "mean             -0.015266            0.541782            0.205521   \n",
       "std               0.943460            0.498256            0.404085   \n",
       "min              -1.713579            0.000000            0.000000   \n",
       "25%              -0.746551            0.000000            0.000000   \n",
       "50%              -0.166334            1.000000            0.000000   \n",
       "75%               0.607288            1.000000            0.000000   \n",
       "max               2.638047            1.000000            1.000000   \n",
       "\n",
       "       sourcing_channel_C  sourcing_channel_D  sourcing_channel_E  \\\n",
       "count        55897.000000        55897.000000        55897.000000   \n",
       "mean             0.150903            0.093905            0.007890   \n",
       "std              0.357957            0.291699            0.088473   \n",
       "min              0.000000            0.000000            0.000000   \n",
       "25%              0.000000            0.000000            0.000000   \n",
       "50%              0.000000            0.000000            0.000000   \n",
       "75%              0.000000            0.000000            0.000000   \n",
       "max              1.000000            1.000000            1.000000   \n",
       "\n",
       "       residence_area_type_Rural  residence_area_type_Urban  \n",
       "count               55897.000000               55897.000000  \n",
       "mean                    0.395012                   0.604988  \n",
       "std                     0.488858                   0.488858  \n",
       "min                     0.000000                   0.000000  \n",
       "25%                     0.000000                   0.000000  \n",
       "50%                     0.000000                   1.000000  \n",
       "75%                     1.000000                   1.000000  \n",
       "max                     1.000000                   1.000000  "
      ]
     },
     "execution_count": 47,
     "metadata": {},
     "output_type": "execute_result"
    }
   ],
   "source": [
    "X_train_sc.describe()"
   ]
  },
  {
   "cell_type": "markdown",
   "metadata": {
    "id": "yZEJd1hXtXva"
   },
   "source": [
    "# Feature Selection\n",
    "\n",
    "- PCA\n",
    "\n",
    "- RFE\n",
    "\n",
    "- SelectFromModel ( Decision Tree)"
   ]
  },
  {
   "cell_type": "markdown",
   "metadata": {
    "id": "Flp4bI8ctq5E"
   },
   "source": [
    "## PCA"
   ]
  },
  {
   "cell_type": "code",
   "execution_count": 48,
   "metadata": {
    "executionInfo": {
     "elapsed": 480,
     "status": "ok",
     "timestamp": 1674394932042,
     "user": {
      "displayName": "IACSD Akurdi",
      "userId": "10433988175144222979"
     },
     "user_tz": -330
    },
    "id": "vxZ4MY36tBrN"
   },
   "outputs": [],
   "source": [
    "from sklearn.decomposition import PCA"
   ]
  },
  {
   "cell_type": "code",
   "execution_count": 49,
   "metadata": {
    "executionInfo": {
     "elapsed": 472,
     "status": "ok",
     "timestamp": 1674394976553,
     "user": {
      "displayName": "IACSD Akurdi",
      "userId": "10433988175144222979"
     },
     "user_tz": -330
    },
    "id": "YN6PrNM2twys"
   },
   "outputs": [],
   "source": [
    "pca = PCA(n_components = 0.99, random_state=7)"
   ]
  },
  {
   "cell_type": "code",
   "execution_count": 50,
   "metadata": {
    "colab": {
     "base_uri": "https://localhost:8080/"
    },
    "executionInfo": {
     "elapsed": 761,
     "status": "ok",
     "timestamp": 1674394996363,
     "user": {
      "displayName": "IACSD Akurdi",
      "userId": "10433988175144222979"
     },
     "user_tz": -330
    },
    "id": "Zgpw3WYgt7vc",
    "outputId": "2ebfe4ee-879f-49ac-8e02-0c48196c23d2"
   },
   "outputs": [
    {
     "data": {
      "text/plain": [
       "PCA(n_components=0.99, random_state=7)"
      ]
     },
     "execution_count": 50,
     "metadata": {},
     "output_type": "execute_result"
    }
   ],
   "source": [
    "pca.fit(X_train_sc)"
   ]
  },
  {
   "cell_type": "code",
   "execution_count": 51,
   "metadata": {
    "executionInfo": {
     "elapsed": 536,
     "status": "ok",
     "timestamp": 1674395110857,
     "user": {
      "displayName": "IACSD Akurdi",
      "userId": "10433988175144222979"
     },
     "user_tz": -330
    },
    "id": "2CReKjaduBZh"
   },
   "outputs": [],
   "source": [
    "X_train_pca = pca.transform(X_train_sc)"
   ]
  },
  {
   "cell_type": "code",
   "execution_count": 52,
   "metadata": {
    "colab": {
     "base_uri": "https://localhost:8080/"
    },
    "executionInfo": {
     "elapsed": 9,
     "status": "ok",
     "timestamp": 1674395115769,
     "user": {
      "displayName": "IACSD Akurdi",
      "userId": "10433988175144222979"
     },
     "user_tz": -330
    },
    "id": "6hFd70DcudJi",
    "outputId": "eb2cb7fc-2b67-4c9c-8fc9-ac59eb18ecd4"
   },
   "outputs": [
    {
     "data": {
      "text/plain": [
       "(55897, 9)"
      ]
     },
     "execution_count": 52,
     "metadata": {},
     "output_type": "execute_result"
    }
   ],
   "source": [
    "X_train_pca.shape"
   ]
  },
  {
   "cell_type": "markdown",
   "metadata": {
    "id": "3JyLFAk6w_Vk"
   },
   "source": [
    "# Train the model\n",
    "\n",
    "- SVM\n",
    "\n",
    "fine tune C and gamma parameters\n",
    "\n",
    "- RandomForest\n",
    "\n",
    "n_estimators , max_samples , max_depth needs to be tuned\n",
    "\n",
    "- CatBoost"
   ]
  },
  {
   "cell_type": "markdown",
   "metadata": {
    "id": "5yQBAxw-aB3t"
   },
   "source": [
    "## SVM classifier ( SVC)"
   ]
  },
  {
   "cell_type": "code",
   "execution_count": 54,
   "metadata": {
    "executionInfo": {
     "elapsed": 478,
     "status": "ok",
     "timestamp": 1674456892389,
     "user": {
      "displayName": "IACSD Akurdi",
      "userId": "10433988175144222979"
     },
     "user_tz": -330
    },
    "id": "N1M6xBolaE7M"
   },
   "outputs": [],
   "source": [
    "from sklearn.svm import SVC"
   ]
  },
  {
   "cell_type": "code",
   "execution_count": 53,
   "metadata": {
    "executionInfo": {
     "elapsed": 8,
     "status": "ok",
     "timestamp": 1674456850423,
     "user": {
      "displayName": "IACSD Akurdi",
      "userId": "10433988175144222979"
     },
     "user_tz": -330
    },
    "id": "KTD1nUSgudxT"
   },
   "outputs": [],
   "source": [
    "from sklearn.model_selection import GridSearchCV"
   ]
  },
  {
   "cell_type": "code",
   "execution_count": 55,
   "metadata": {
    "executionInfo": {
     "elapsed": 985,
     "status": "ok",
     "timestamp": 1674456933446,
     "user": {
      "displayName": "IACSD Akurdi",
      "userId": "10433988175144222979"
     },
     "user_tz": -330
    },
    "id": "2qWwDYLoZ9OJ"
   },
   "outputs": [],
   "source": [
    "param_grid = {\n",
    "    \"C\" : [0.1, 2],\n",
    "    \"gamma\" : [0.5, 1]\n",
    "}"
   ]
  },
  {
   "cell_type": "code",
   "execution_count": null,
   "metadata": {
    "id": "KHDUwMc1aStt"
   },
   "outputs": [],
   "source": [
    "gscv = GridSearchCV(SVC(random_state=7), param_grid, cv=2, verbose=2)"
   ]
  },
  {
   "cell_type": "code",
   "execution_count": null,
   "metadata": {
    "id": "3hIkTuxkai73"
   },
   "outputs": [],
   "source": [
    "gscv.fit(X_train_pca,y_train)"
   ]
  },
  {
   "cell_type": "code",
   "execution_count": null,
   "metadata": {
    "id": "MjgjCL1daukL"
   },
   "outputs": [],
   "source": [
    "gscv.best_score_"
   ]
  },
  {
   "cell_type": "code",
   "execution_count": null,
   "metadata": {
    "id": "lBGszyofay1-"
   },
   "outputs": [],
   "source": [
    "gscv.best_params_"
   ]
  },
  {
   "cell_type": "markdown",
   "metadata": {
    "id": "gw7uoLy-a2Rs"
   },
   "source": [
    "## RandomForest "
   ]
  },
  {
   "cell_type": "code",
   "execution_count": 56,
   "metadata": {
    "executionInfo": {
     "elapsed": 554,
     "status": "ok",
     "timestamp": 1674457122917,
     "user": {
      "displayName": "IACSD Akurdi",
      "userId": "10433988175144222979"
     },
     "user_tz": -330
    },
    "id": "mz9yyIXca3sO"
   },
   "outputs": [],
   "source": [
    "from sklearn.ensemble import RandomForestClassifier"
   ]
  },
  {
   "cell_type": "code",
   "execution_count": 57,
   "metadata": {
    "executionInfo": {
     "elapsed": 473,
     "status": "ok",
     "timestamp": 1674457199468,
     "user": {
      "displayName": "IACSD Akurdi",
      "userId": "10433988175144222979"
     },
     "user_tz": -330
    },
    "id": "rXW8z81lbB6D"
   },
   "outputs": [],
   "source": [
    "param_grid = {\n",
    "    'n_estimators':[50, 200] , \n",
    "    'max_samples': [0.6, 0.8]\n",
    "}"
   ]
  },
  {
   "cell_type": "code",
   "execution_count": 58,
   "metadata": {
    "executionInfo": {
     "elapsed": 475,
     "status": "ok",
     "timestamp": 1674457309949,
     "user": {
      "displayName": "IACSD Akurdi",
      "userId": "10433988175144222979"
     },
     "user_tz": -330
    },
    "id": "6SuvY2WpbTO6"
   },
   "outputs": [],
   "source": [
    "gscv = GridSearchCV(RandomForestClassifier(max_depth = 4,\n",
    "                                           oob_score=True,\n",
    "                                           class_weight='balanced',\n",
    "                                           random_state=7), \n",
    "                    param_grid, cv=2, verbose=2)"
   ]
  },
  {
   "cell_type": "code",
   "execution_count": 59,
   "metadata": {
    "colab": {
     "base_uri": "https://localhost:8080/"
    },
    "executionInfo": {
     "elapsed": 46834,
     "status": "ok",
     "timestamp": 1674457560295,
     "user": {
      "displayName": "IACSD Akurdi",
      "userId": "10433988175144222979"
     },
     "user_tz": -330
    },
    "id": "Oen6wyFZbujj",
    "outputId": "ca831fb1-bce3-4809-e7ce-1b7ed135368f"
   },
   "outputs": [
    {
     "name": "stdout",
     "output_type": "stream",
     "text": [
      "Fitting 2 folds for each of 4 candidates, totalling 8 fits\n",
      "[CV] END ...................max_samples=0.6, n_estimators=50; total time=   2.2s\n",
      "[CV] END ...................max_samples=0.6, n_estimators=50; total time=   1.6s\n",
      "[CV] END ..................max_samples=0.6, n_estimators=200; total time=   6.6s\n",
      "[CV] END ..................max_samples=0.6, n_estimators=200; total time=   6.2s\n",
      "[CV] END ...................max_samples=0.8, n_estimators=50; total time=   1.8s\n",
      "[CV] END ...................max_samples=0.8, n_estimators=50; total time=   1.8s\n",
      "[CV] END ..................max_samples=0.8, n_estimators=200; total time=   7.2s\n",
      "[CV] END ..................max_samples=0.8, n_estimators=200; total time=   7.1s\n"
     ]
    },
    {
     "data": {
      "text/plain": [
       "GridSearchCV(cv=2,\n",
       "             estimator=RandomForestClassifier(class_weight='balanced',\n",
       "                                              max_depth=4, oob_score=True,\n",
       "                                              random_state=7),\n",
       "             param_grid={'max_samples': [0.6, 0.8], 'n_estimators': [50, 200]},\n",
       "             verbose=2)"
      ]
     },
     "execution_count": 59,
     "metadata": {},
     "output_type": "execute_result"
    }
   ],
   "source": [
    "gscv.fit(X_train_pca,y_train)"
   ]
  },
  {
   "cell_type": "code",
   "execution_count": 60,
   "metadata": {
    "colab": {
     "base_uri": "https://localhost:8080/"
    },
    "executionInfo": {
     "elapsed": 466,
     "status": "ok",
     "timestamp": 1674457566756,
     "user": {
      "displayName": "IACSD Akurdi",
      "userId": "10433988175144222979"
     },
     "user_tz": -330
    },
    "id": "KDMBUcYvcfj0",
    "outputId": "0321899e-c604-49af-cea5-e5fced0484d1"
   },
   "outputs": [
    {
     "data": {
      "text/plain": [
       "0.7525806911598367"
      ]
     },
     "execution_count": 60,
     "metadata": {},
     "output_type": "execute_result"
    }
   ],
   "source": [
    "gscv.best_score_"
   ]
  },
  {
   "cell_type": "code",
   "execution_count": 61,
   "metadata": {
    "colab": {
     "base_uri": "https://localhost:8080/"
    },
    "executionInfo": {
     "elapsed": 463,
     "status": "ok",
     "timestamp": 1674457577397,
     "user": {
      "displayName": "IACSD Akurdi",
      "userId": "10433988175144222979"
     },
     "user_tz": -330
    },
    "id": "v7v8NEUrcu3A",
    "outputId": "ec012d09-af63-49c5-8905-742fd41a5af5"
   },
   "outputs": [
    {
     "data": {
      "text/plain": [
       "{'max_samples': 0.6, 'n_estimators': 200}"
      ]
     },
     "execution_count": 61,
     "metadata": {},
     "output_type": "execute_result"
    }
   ],
   "source": [
    "gscv.best_params_"
   ]
  },
  {
   "cell_type": "markdown",
   "metadata": {
    "id": "tM4GvQGXdhtY"
   },
   "source": [
    "### Create RF  model using best params"
   ]
  },
  {
   "cell_type": "code",
   "execution_count": 62,
   "metadata": {
    "executionInfo": {
     "elapsed": 8,
     "status": "ok",
     "timestamp": 1674457857135,
     "user": {
      "displayName": "IACSD Akurdi",
      "userId": "10433988175144222979"
     },
     "user_tz": -330
    },
    "id": "r5ts3osBcvLr"
   },
   "outputs": [],
   "source": [
    "rfc = RandomForestClassifier(n_estimators = 200,\n",
    "                       max_samples= 0.6,\n",
    "                        max_depth = 4,\n",
    "                        oob_score=True,\n",
    "                        class_weight='balanced',\n",
    "                        random_state=7)"
   ]
  },
  {
   "cell_type": "code",
   "execution_count": 63,
   "metadata": {
    "colab": {
     "base_uri": "https://localhost:8080/"
    },
    "executionInfo": {
     "elapsed": 13959,
     "status": "ok",
     "timestamp": 1674457894283,
     "user": {
      "displayName": "IACSD Akurdi",
      "userId": "10433988175144222979"
     },
     "user_tz": -330
    },
    "id": "gG9st4Jxd0zW",
    "outputId": "7b97365e-dc52-4f2a-bb19-300466b2ff81"
   },
   "outputs": [
    {
     "data": {
      "text/plain": [
       "RandomForestClassifier(class_weight='balanced', max_depth=4, max_samples=0.6,\n",
       "                       n_estimators=200, oob_score=True, random_state=7)"
      ]
     },
     "execution_count": 63,
     "metadata": {},
     "output_type": "execute_result"
    }
   ],
   "source": [
    "rfc.fit(X_train_pca,y_train)"
   ]
  },
  {
   "cell_type": "markdown",
   "metadata": {
    "id": "hDJDFopQeMII"
   },
   "source": [
    "### predict on train data only because test data is not preprocessed"
   ]
  },
  {
   "cell_type": "code",
   "execution_count": 64,
   "metadata": {
    "executionInfo": {
     "elapsed": 1197,
     "status": "ok",
     "timestamp": 1674457979633,
     "user": {
      "displayName": "IACSD Akurdi",
      "userId": "10433988175144222979"
     },
     "user_tz": -330
    },
    "id": "EsRax3P7d5IC"
   },
   "outputs": [],
   "source": [
    "y_pred_train = rfc.predict(X_train_pca)"
   ]
  },
  {
   "cell_type": "code",
   "execution_count": 65,
   "metadata": {
    "colab": {
     "base_uri": "https://localhost:8080/"
    },
    "executionInfo": {
     "elapsed": 458,
     "status": "ok",
     "timestamp": 1674458016768,
     "user": {
      "displayName": "IACSD Akurdi",
      "userId": "10433988175144222979"
     },
     "user_tz": -330
    },
    "id": "X_faud6eeRgo",
    "outputId": "b93ecffb-474f-425a-b6d3-d8d605ff74dc"
   },
   "outputs": [
    {
     "data": {
      "text/plain": [
       "0.8503356786078736"
      ]
     },
     "execution_count": 65,
     "metadata": {},
     "output_type": "execute_result"
    }
   ],
   "source": [
    "from sklearn.metrics import f1_score\n",
    "f1_score(y_train, y_pred_train)"
   ]
  },
  {
   "cell_type": "markdown",
   "metadata": {
    "id": "1rv5A9bBedZw"
   },
   "source": [
    "# Make Test Data Ready fore predictions\n",
    "\n",
    "same steps of preprocessing as that of training data are done \n",
    "\n",
    "same features are selected here\n"
   ]
  },
  {
   "cell_type": "code",
   "execution_count": 66,
   "metadata": {
    "executionInfo": {
     "elapsed": 695,
     "status": "ok",
     "timestamp": 1674458143456,
     "user": {
      "displayName": "IACSD Akurdi",
      "userId": "10433988175144222979"
     },
     "user_tz": -330
    },
    "id": "lJ9iSaThev4Q"
   },
   "outputs": [],
   "source": [
    "X_test.drop(drop_columns, axis=1,inplace=True)"
   ]
  },
  {
   "cell_type": "code",
   "execution_count": 67,
   "metadata": {
    "executionInfo": {
     "elapsed": 462,
     "status": "ok",
     "timestamp": 1674458189888,
     "user": {
      "displayName": "IACSD Akurdi",
      "userId": "10433988175144222979"
     },
     "user_tz": -330
    },
    "id": "THAdHyO1e4z4"
   },
   "outputs": [],
   "source": [
    "X_test.fillna(fill_value, inplace=True)"
   ]
  },
  {
   "cell_type": "code",
   "execution_count": 68,
   "metadata": {
    "executionInfo": {
     "elapsed": 482,
     "status": "ok",
     "timestamp": 1674458240750,
     "user": {
      "displayName": "IACSD Akurdi",
      "userId": "10433988175144222979"
     },
     "user_tz": -330
    },
    "id": "vQyBzPVTfFYB"
   },
   "outputs": [],
   "source": [
    "X_test_ohe = pd.get_dummies(X_test)"
   ]
  },
  {
   "cell_type": "code",
   "execution_count": 69,
   "metadata": {
    "colab": {
     "base_uri": "https://localhost:8080/"
    },
    "executionInfo": {
     "elapsed": 8,
     "status": "ok",
     "timestamp": 1674458252506,
     "user": {
      "displayName": "IACSD Akurdi",
      "userId": "10433988175144222979"
     },
     "user_tz": -330
    },
    "id": "YaF-Ccg1fRIa",
    "outputId": "48c09a10-3cd2-4d15-ee33-0f276a5ccbc8"
   },
   "outputs": [
    {
     "data": {
      "text/plain": [
       "((23956, 15), (23956, 10))"
      ]
     },
     "execution_count": 69,
     "metadata": {},
     "output_type": "execute_result"
    }
   ],
   "source": [
    "X_test_ohe.shape, X_test.shape"
   ]
  },
  {
   "cell_type": "code",
   "execution_count": 70,
   "metadata": {
    "executionInfo": {
     "elapsed": 450,
     "status": "ok",
     "timestamp": 1674458369459,
     "user": {
      "displayName": "IACSD Akurdi",
      "userId": "10433988175144222979"
     },
     "user_tz": -330
    },
    "id": "8J-OcyS2fT5G"
   },
   "outputs": [],
   "source": [
    "X_test_ohe.loc[:, num_columns] = std.transform(X_test_ohe.loc[:, num_columns])"
   ]
  },
  {
   "cell_type": "code",
   "execution_count": 71,
   "metadata": {
    "colab": {
     "base_uri": "https://localhost:8080/"
    },
    "executionInfo": {
     "elapsed": 8,
     "status": "ok",
     "timestamp": 1674458377357,
     "user": {
      "displayName": "IACSD Akurdi",
      "userId": "10433988175144222979"
     },
     "user_tz": -330
    },
    "id": "nhCMjH--fxQS",
    "outputId": "0f78bae8-c99c-4d97-ac44-f9bcb941bdbe"
   },
   "outputs": [
    {
     "data": {
      "text/plain": [
       "(23956, 15)"
      ]
     },
     "execution_count": 71,
     "metadata": {},
     "output_type": "execute_result"
    }
   ],
   "source": [
    "X_test_ohe.shape"
   ]
  },
  {
   "cell_type": "code",
   "execution_count": 72,
   "metadata": {
    "colab": {
     "base_uri": "https://localhost:8080/",
     "height": 364
    },
    "executionInfo": {
     "elapsed": 10,
     "status": "ok",
     "timestamp": 1674458386483,
     "user": {
      "displayName": "IACSD Akurdi",
      "userId": "10433988175144222979"
     },
     "user_tz": -330
    },
    "id": "lnfGG99LfyW9",
    "outputId": "fa91f282-34ec-43ac-a8ec-7121dd10655d"
   },
   "outputs": [
    {
     "data": {
      "text/html": [
       "\n",
       "  <div id=\"df-a326fba6-5d16-493e-946c-93b055ded981\">\n",
       "    <div class=\"colab-df-container\">\n",
       "      <div>\n",
       "<style scoped>\n",
       "    .dataframe tbody tr th:only-of-type {\n",
       "        vertical-align: middle;\n",
       "    }\n",
       "\n",
       "    .dataframe tbody tr th {\n",
       "        vertical-align: top;\n",
       "    }\n",
       "\n",
       "    .dataframe thead th {\n",
       "        text-align: right;\n",
       "    }\n",
       "</style>\n",
       "<table border=\"1\" class=\"dataframe\">\n",
       "  <thead>\n",
       "    <tr style=\"text-align: right;\">\n",
       "      <th></th>\n",
       "      <th>perc_premium_paid_by_cash_credit</th>\n",
       "      <th>age_in_days</th>\n",
       "      <th>Income</th>\n",
       "      <th>Count_3-6_months_late</th>\n",
       "      <th>Count_6-12_months_late</th>\n",
       "      <th>Count_more_than_12_months_late</th>\n",
       "      <th>application_underwriting_score</th>\n",
       "      <th>no_of_premiums_paid</th>\n",
       "      <th>sourcing_channel_A</th>\n",
       "      <th>sourcing_channel_B</th>\n",
       "      <th>sourcing_channel_C</th>\n",
       "      <th>sourcing_channel_D</th>\n",
       "      <th>sourcing_channel_E</th>\n",
       "      <th>residence_area_type_Rural</th>\n",
       "      <th>residence_area_type_Urban</th>\n",
       "    </tr>\n",
       "  </thead>\n",
       "  <tbody>\n",
       "    <tr>\n",
       "      <th>count</th>\n",
       "      <td>23956.000000</td>\n",
       "      <td>23956.000000</td>\n",
       "      <td>23956.000000</td>\n",
       "      <td>23956.000000</td>\n",
       "      <td>23956.000000</td>\n",
       "      <td>23956.000000</td>\n",
       "      <td>23956.000000</td>\n",
       "      <td>23956.000000</td>\n",
       "      <td>23956.000000</td>\n",
       "      <td>23956.000000</td>\n",
       "      <td>23956.000000</td>\n",
       "      <td>23956.000000</td>\n",
       "      <td>23956.000000</td>\n",
       "      <td>23956.000000</td>\n",
       "      <td>23956.000000</td>\n",
       "    </tr>\n",
       "    <tr>\n",
       "      <th>mean</th>\n",
       "      <td>-0.000038</td>\n",
       "      <td>0.011828</td>\n",
       "      <td>0.004193</td>\n",
       "      <td>0.002945</td>\n",
       "      <td>0.008336</td>\n",
       "      <td>-0.010157</td>\n",
       "      <td>0.005314</td>\n",
       "      <td>0.002488</td>\n",
       "      <td>0.536400</td>\n",
       "      <td>0.209718</td>\n",
       "      <td>0.150442</td>\n",
       "      <td>0.096427</td>\n",
       "      <td>0.007013</td>\n",
       "      <td>0.400317</td>\n",
       "      <td>0.599683</td>\n",
       "    </tr>\n",
       "    <tr>\n",
       "      <th>std</th>\n",
       "      <td>1.001226</td>\n",
       "      <td>0.997385</td>\n",
       "      <td>1.127476</td>\n",
       "      <td>1.005361</td>\n",
       "      <td>1.097608</td>\n",
       "      <td>0.956273</td>\n",
       "      <td>1.011531</td>\n",
       "      <td>1.000131</td>\n",
       "      <td>0.498684</td>\n",
       "      <td>0.407116</td>\n",
       "      <td>0.357512</td>\n",
       "      <td>0.295182</td>\n",
       "      <td>0.083450</td>\n",
       "      <td>0.489973</td>\n",
       "      <td>0.489973</td>\n",
       "    </tr>\n",
       "    <tr>\n",
       "      <th>min</th>\n",
       "      <td>-0.938769</td>\n",
       "      <td>-2.140568</td>\n",
       "      <td>-0.385765</td>\n",
       "      <td>-0.359077</td>\n",
       "      <td>-0.181927</td>\n",
       "      <td>-0.192765</td>\n",
       "      <td>-9.824097</td>\n",
       "      <td>-1.713579</td>\n",
       "      <td>0.000000</td>\n",
       "      <td>0.000000</td>\n",
       "      <td>0.000000</td>\n",
       "      <td>0.000000</td>\n",
       "      <td>0.000000</td>\n",
       "      <td>0.000000</td>\n",
       "      <td>0.000000</td>\n",
       "    </tr>\n",
       "    <tr>\n",
       "      <th>25%</th>\n",
       "      <td>-0.837213</td>\n",
       "      <td>-0.738999</td>\n",
       "      <td>-0.209757</td>\n",
       "      <td>-0.359077</td>\n",
       "      <td>-0.181927</td>\n",
       "      <td>-0.192765</td>\n",
       "      <td>-0.319739</td>\n",
       "      <td>-0.746551</td>\n",
       "      <td>0.000000</td>\n",
       "      <td>0.000000</td>\n",
       "      <td>0.000000</td>\n",
       "      <td>0.000000</td>\n",
       "      <td>0.000000</td>\n",
       "      <td>0.000000</td>\n",
       "      <td>0.000000</td>\n",
       "    </tr>\n",
       "    <tr>\n",
       "      <th>50%</th>\n",
       "      <td>-0.439950</td>\n",
       "      <td>-0.038406</td>\n",
       "      <td>-0.084416</td>\n",
       "      <td>-0.359077</td>\n",
       "      <td>-0.181927</td>\n",
       "      <td>-0.192765</td>\n",
       "      <td>0.191397</td>\n",
       "      <td>-0.166334</td>\n",
       "      <td>1.000000</td>\n",
       "      <td>0.000000</td>\n",
       "      <td>0.000000</td>\n",
       "      <td>0.000000</td>\n",
       "      <td>0.000000</td>\n",
       "      <td>0.000000</td>\n",
       "      <td>1.000000</td>\n",
       "    </tr>\n",
       "    <tr>\n",
       "      <th>75%</th>\n",
       "      <td>0.653268</td>\n",
       "      <td>0.730673</td>\n",
       "      <td>0.092786</td>\n",
       "      <td>-0.359077</td>\n",
       "      <td>-0.181927</td>\n",
       "      <td>-0.192765</td>\n",
       "      <td>0.633460</td>\n",
       "      <td>0.607288</td>\n",
       "      <td>1.000000</td>\n",
       "      <td>0.000000</td>\n",
       "      <td>0.000000</td>\n",
       "      <td>0.000000</td>\n",
       "      <td>0.000000</td>\n",
       "      <td>1.000000</td>\n",
       "      <td>1.000000</td>\n",
       "    </tr>\n",
       "    <tr>\n",
       "      <th>max</th>\n",
       "      <td>2.048166</td>\n",
       "      <td>3.532086</td>\n",
       "      <td>112.271499</td>\n",
       "      <td>12.684593</td>\n",
       "      <td>35.242436</td>\n",
       "      <td>18.799590</td>\n",
       "      <td>1.130781</td>\n",
       "      <td>9.117136</td>\n",
       "      <td>1.000000</td>\n",
       "      <td>1.000000</td>\n",
       "      <td>1.000000</td>\n",
       "      <td>1.000000</td>\n",
       "      <td>1.000000</td>\n",
       "      <td>1.000000</td>\n",
       "      <td>1.000000</td>\n",
       "    </tr>\n",
       "  </tbody>\n",
       "</table>\n",
       "</div>\n",
       "      <button class=\"colab-df-convert\" onclick=\"convertToInteractive('df-a326fba6-5d16-493e-946c-93b055ded981')\"\n",
       "              title=\"Convert this dataframe to an interactive table.\"\n",
       "              style=\"display:none;\">\n",
       "        \n",
       "  <svg xmlns=\"http://www.w3.org/2000/svg\" height=\"24px\"viewBox=\"0 0 24 24\"\n",
       "       width=\"24px\">\n",
       "    <path d=\"M0 0h24v24H0V0z\" fill=\"none\"/>\n",
       "    <path d=\"M18.56 5.44l.94 2.06.94-2.06 2.06-.94-2.06-.94-.94-2.06-.94 2.06-2.06.94zm-11 1L8.5 8.5l.94-2.06 2.06-.94-2.06-.94L8.5 2.5l-.94 2.06-2.06.94zm10 10l.94 2.06.94-2.06 2.06-.94-2.06-.94-.94-2.06-.94 2.06-2.06.94z\"/><path d=\"M17.41 7.96l-1.37-1.37c-.4-.4-.92-.59-1.43-.59-.52 0-1.04.2-1.43.59L10.3 9.45l-7.72 7.72c-.78.78-.78 2.05 0 2.83L4 21.41c.39.39.9.59 1.41.59.51 0 1.02-.2 1.41-.59l7.78-7.78 2.81-2.81c.8-.78.8-2.07 0-2.86zM5.41 20L4 18.59l7.72-7.72 1.47 1.35L5.41 20z\"/>\n",
       "  </svg>\n",
       "      </button>\n",
       "      \n",
       "  <style>\n",
       "    .colab-df-container {\n",
       "      display:flex;\n",
       "      flex-wrap:wrap;\n",
       "      gap: 12px;\n",
       "    }\n",
       "\n",
       "    .colab-df-convert {\n",
       "      background-color: #E8F0FE;\n",
       "      border: none;\n",
       "      border-radius: 50%;\n",
       "      cursor: pointer;\n",
       "      display: none;\n",
       "      fill: #1967D2;\n",
       "      height: 32px;\n",
       "      padding: 0 0 0 0;\n",
       "      width: 32px;\n",
       "    }\n",
       "\n",
       "    .colab-df-convert:hover {\n",
       "      background-color: #E2EBFA;\n",
       "      box-shadow: 0px 1px 2px rgba(60, 64, 67, 0.3), 0px 1px 3px 1px rgba(60, 64, 67, 0.15);\n",
       "      fill: #174EA6;\n",
       "    }\n",
       "\n",
       "    [theme=dark] .colab-df-convert {\n",
       "      background-color: #3B4455;\n",
       "      fill: #D2E3FC;\n",
       "    }\n",
       "\n",
       "    [theme=dark] .colab-df-convert:hover {\n",
       "      background-color: #434B5C;\n",
       "      box-shadow: 0px 1px 3px 1px rgba(0, 0, 0, 0.15);\n",
       "      filter: drop-shadow(0px 1px 2px rgba(0, 0, 0, 0.3));\n",
       "      fill: #FFFFFF;\n",
       "    }\n",
       "  </style>\n",
       "\n",
       "      <script>\n",
       "        const buttonEl =\n",
       "          document.querySelector('#df-a326fba6-5d16-493e-946c-93b055ded981 button.colab-df-convert');\n",
       "        buttonEl.style.display =\n",
       "          google.colab.kernel.accessAllowed ? 'block' : 'none';\n",
       "\n",
       "        async function convertToInteractive(key) {\n",
       "          const element = document.querySelector('#df-a326fba6-5d16-493e-946c-93b055ded981');\n",
       "          const dataTable =\n",
       "            await google.colab.kernel.invokeFunction('convertToInteractive',\n",
       "                                                     [key], {});\n",
       "          if (!dataTable) return;\n",
       "\n",
       "          const docLinkHtml = 'Like what you see? Visit the ' +\n",
       "            '<a target=\"_blank\" href=https://colab.research.google.com/notebooks/data_table.ipynb>data table notebook</a>'\n",
       "            + ' to learn more about interactive tables.';\n",
       "          element.innerHTML = '';\n",
       "          dataTable['output_type'] = 'display_data';\n",
       "          await google.colab.output.renderOutput(dataTable, element);\n",
       "          const docLink = document.createElement('div');\n",
       "          docLink.innerHTML = docLinkHtml;\n",
       "          element.appendChild(docLink);\n",
       "        }\n",
       "      </script>\n",
       "    </div>\n",
       "  </div>\n",
       "  "
      ],
      "text/plain": [
       "       perc_premium_paid_by_cash_credit   age_in_days        Income  \\\n",
       "count                      23956.000000  23956.000000  23956.000000   \n",
       "mean                          -0.000038      0.011828      0.004193   \n",
       "std                            1.001226      0.997385      1.127476   \n",
       "min                           -0.938769     -2.140568     -0.385765   \n",
       "25%                           -0.837213     -0.738999     -0.209757   \n",
       "50%                           -0.439950     -0.038406     -0.084416   \n",
       "75%                            0.653268      0.730673      0.092786   \n",
       "max                            2.048166      3.532086    112.271499   \n",
       "\n",
       "       Count_3-6_months_late  Count_6-12_months_late  \\\n",
       "count           23956.000000            23956.000000   \n",
       "mean                0.002945                0.008336   \n",
       "std                 1.005361                1.097608   \n",
       "min                -0.359077               -0.181927   \n",
       "25%                -0.359077               -0.181927   \n",
       "50%                -0.359077               -0.181927   \n",
       "75%                -0.359077               -0.181927   \n",
       "max                12.684593               35.242436   \n",
       "\n",
       "       Count_more_than_12_months_late  application_underwriting_score  \\\n",
       "count                    23956.000000                    23956.000000   \n",
       "mean                        -0.010157                        0.005314   \n",
       "std                          0.956273                        1.011531   \n",
       "min                         -0.192765                       -9.824097   \n",
       "25%                         -0.192765                       -0.319739   \n",
       "50%                         -0.192765                        0.191397   \n",
       "75%                         -0.192765                        0.633460   \n",
       "max                         18.799590                        1.130781   \n",
       "\n",
       "       no_of_premiums_paid  sourcing_channel_A  sourcing_channel_B  \\\n",
       "count         23956.000000        23956.000000        23956.000000   \n",
       "mean              0.002488            0.536400            0.209718   \n",
       "std               1.000131            0.498684            0.407116   \n",
       "min              -1.713579            0.000000            0.000000   \n",
       "25%              -0.746551            0.000000            0.000000   \n",
       "50%              -0.166334            1.000000            0.000000   \n",
       "75%               0.607288            1.000000            0.000000   \n",
       "max               9.117136            1.000000            1.000000   \n",
       "\n",
       "       sourcing_channel_C  sourcing_channel_D  sourcing_channel_E  \\\n",
       "count        23956.000000        23956.000000        23956.000000   \n",
       "mean             0.150442            0.096427            0.007013   \n",
       "std              0.357512            0.295182            0.083450   \n",
       "min              0.000000            0.000000            0.000000   \n",
       "25%              0.000000            0.000000            0.000000   \n",
       "50%              0.000000            0.000000            0.000000   \n",
       "75%              0.000000            0.000000            0.000000   \n",
       "max              1.000000            1.000000            1.000000   \n",
       "\n",
       "       residence_area_type_Rural  residence_area_type_Urban  \n",
       "count               23956.000000               23956.000000  \n",
       "mean                    0.400317                   0.599683  \n",
       "std                     0.489973                   0.489973  \n",
       "min                     0.000000                   0.000000  \n",
       "25%                     0.000000                   0.000000  \n",
       "50%                     0.000000                   1.000000  \n",
       "75%                     1.000000                   1.000000  \n",
       "max                     1.000000                   1.000000  "
      ]
     },
     "execution_count": 72,
     "metadata": {},
     "output_type": "execute_result"
    }
   ],
   "source": [
    "X_test_ohe.describe()"
   ]
  },
  {
   "cell_type": "markdown",
   "metadata": {
    "id": "N7uGGxiBhDwR"
   },
   "source": [
    "### feature selection using PCA for test data"
   ]
  },
  {
   "cell_type": "code",
   "execution_count": 73,
   "metadata": {
    "executionInfo": {
     "elapsed": 17,
     "status": "ok",
     "timestamp": 1674458742970,
     "user": {
      "displayName": "IACSD Akurdi",
      "userId": "10433988175144222979"
     },
     "user_tz": -330
    },
    "id": "1HWCnET9f0iV"
   },
   "outputs": [],
   "source": [
    "X_test_pca = pca.transform(X_test_ohe)"
   ]
  },
  {
   "cell_type": "code",
   "execution_count": 74,
   "metadata": {
    "colab": {
     "base_uri": "https://localhost:8080/"
    },
    "executionInfo": {
     "elapsed": 13,
     "status": "ok",
     "timestamp": 1674458750125,
     "user": {
      "displayName": "IACSD Akurdi",
      "userId": "10433988175144222979"
     },
     "user_tz": -330
    },
    "id": "SI1BMuIPhM9x",
    "outputId": "023d7fd7-63b5-49f2-8c12-3392cd45185e"
   },
   "outputs": [
    {
     "data": {
      "text/plain": [
       "(23956, 9)"
      ]
     },
     "execution_count": 74,
     "metadata": {},
     "output_type": "execute_result"
    }
   ],
   "source": [
    "X_test_pca.shape"
   ]
  },
  {
   "cell_type": "markdown",
   "metadata": {
    "id": "Wkzl62mfhVFP"
   },
   "source": [
    "# prediction on Test data"
   ]
  },
  {
   "cell_type": "code",
   "execution_count": 76,
   "metadata": {
    "executionInfo": {
     "elapsed": 456,
     "status": "ok",
     "timestamp": 1674458814557,
     "user": {
      "displayName": "IACSD Akurdi",
      "userId": "10433988175144222979"
     },
     "user_tz": -330
    },
    "id": "yHrh_T9hhNkE"
   },
   "outputs": [],
   "source": [
    "y_pred = rfc.predict(X_test_pca)"
   ]
  },
  {
   "cell_type": "code",
   "execution_count": 77,
   "metadata": {
    "colab": {
     "base_uri": "https://localhost:8080/"
    },
    "executionInfo": {
     "elapsed": 8,
     "status": "ok",
     "timestamp": 1674458833607,
     "user": {
      "displayName": "IACSD Akurdi",
      "userId": "10433988175144222979"
     },
     "user_tz": -330
    },
    "id": "m4O2V7iEhbB2",
    "outputId": "d70f08dd-650c-4b7b-f699-cc0bac2c8d38"
   },
   "outputs": [
    {
     "data": {
      "text/plain": [
       "0.8456715819039022"
      ]
     },
     "execution_count": 77,
     "metadata": {},
     "output_type": "execute_result"
    }
   ],
   "source": [
    "f1_score(y_test,y_pred)"
   ]
  },
  {
   "cell_type": "code",
   "execution_count": 78,
   "metadata": {
    "executionInfo": {
     "elapsed": 492,
     "status": "ok",
     "timestamp": 1674458868643,
     "user": {
      "displayName": "IACSD Akurdi",
      "userId": "10433988175144222979"
     },
     "user_tz": -330
    },
    "id": "ra4t3zLwhh0D"
   },
   "outputs": [],
   "source": [
    "from sklearn.metrics import classification_report"
   ]
  },
  {
   "cell_type": "code",
   "execution_count": 80,
   "metadata": {
    "colab": {
     "base_uri": "https://localhost:8080/"
    },
    "executionInfo": {
     "elapsed": 9,
     "status": "ok",
     "timestamp": 1674458884143,
     "user": {
      "displayName": "IACSD Akurdi",
      "userId": "10433988175144222979"
     },
     "user_tz": -330
    },
    "id": "M6Yj7DpWhrGY",
    "outputId": "6ccc7010-222e-4b84-f373-b59c184d788a"
   },
   "outputs": [
    {
     "name": "stdout",
     "output_type": "stream",
     "text": [
      "              precision    recall  f1-score   support\n",
      "\n",
      "           0       0.14      0.63      0.23      1500\n",
      "           1       0.97      0.75      0.85     22456\n",
      "\n",
      "    accuracy                           0.74     23956\n",
      "   macro avg       0.56      0.69      0.54     23956\n",
      "weighted avg       0.92      0.74      0.81     23956\n",
      "\n"
     ]
    }
   ],
   "source": [
    "print(classification_report(y_test,y_pred))"
   ]
  },
  {
   "cell_type": "markdown",
   "metadata": {
    "id": "YVL80e5TijC6"
   },
   "source": [
    "# Apply the model to predict on new data\n",
    "\n",
    "- apply all the preprocessing steps\n",
    "\n",
    "- apply feature selection steps\n"
   ]
  },
  {
   "cell_type": "code",
   "execution_count": 81,
   "metadata": {
    "colab": {
     "base_uri": "https://localhost:8080/"
    },
    "executionInfo": {
     "elapsed": 478,
     "status": "ok",
     "timestamp": 1674459191475,
     "user": {
      "displayName": "IACSD Akurdi",
      "userId": "10433988175144222979"
     },
     "user_tz": -330
    },
    "id": "KfQEqBAyhska",
    "outputId": "92fa3753-3044-42da-d33c-85da3ebb83ea"
   },
   "outputs": [
    {
     "data": {
      "text/plain": [
       "array([1])"
      ]
     },
     "execution_count": 81,
     "metadata": {},
     "output_type": "execute_result"
    }
   ],
   "source": [
    "rfc.predict(X_test_pca[:1])"
   ]
  },
  {
   "cell_type": "code",
   "execution_count": 83,
   "metadata": {
    "colab": {
     "base_uri": "https://localhost:8080/"
    },
    "executionInfo": {
     "elapsed": 477,
     "status": "ok",
     "timestamp": 1674459225835,
     "user": {
      "displayName": "IACSD Akurdi",
      "userId": "10433988175144222979"
     },
     "user_tz": -330
    },
    "id": "ifNRmn3mi5Iz",
    "outputId": "181aa6d7-c059-46c2-cdad-a2ef1a298aff"
   },
   "outputs": [
    {
     "data": {
      "text/plain": [
       "array([[0.42607282, 0.57392718]])"
      ]
     },
     "execution_count": 83,
     "metadata": {},
     "output_type": "execute_result"
    }
   ],
   "source": [
    "rfc.predict_proba(X_test_pca[:1])"
   ]
  },
  {
   "cell_type": "code",
   "execution_count": null,
   "metadata": {
    "id": "aYEVCYZdi_tA"
   },
   "outputs": [],
   "source": []
  }
 ],
 "metadata": {
  "colab": {
   "authorship_tag": "ABX9TyOYtIbuiyn2IJcHrTE520Lj",
   "mount_file_id": "15gkLB7DQMCRCyjfzv9gizP9meE8avXgk",
   "provenance": []
  },
  "kernelspec": {
   "display_name": "Python 3 (ipykernel)",
   "language": "python",
   "name": "python3"
  },
  "language_info": {
   "codemirror_mode": {
    "name": "ipython",
    "version": 3
   },
   "file_extension": ".py",
   "mimetype": "text/x-python",
   "name": "python",
   "nbconvert_exporter": "python",
   "pygments_lexer": "ipython3",
   "version": "3.11.4"
  }
 },
 "nbformat": 4,
 "nbformat_minor": 1
}
