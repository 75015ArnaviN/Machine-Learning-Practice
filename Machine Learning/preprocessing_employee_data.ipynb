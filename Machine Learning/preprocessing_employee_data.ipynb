{
 "cells": [
  {
   "cell_type": "code",
   "execution_count": null,
   "metadata": {
    "id": "cZHz_ncTg2eT"
   },
   "outputs": [],
   "source": [
    "import pandas as pd\n",
    "df = pd.read_csv(\"EmployeeAttrition.csv\")"
   ]
  },
  {
   "cell_type": "code",
   "execution_count": null,
   "metadata": {
    "colab": {
     "base_uri": "https://localhost:8080/"
    },
    "executionInfo": {
     "elapsed": 19,
     "status": "ok",
     "timestamp": 1704104371772,
     "user": {
      "displayName": "IACSD Akurdi",
      "userId": "10433988175144222979"
     },
     "user_tz": -330
    },
    "id": "MJyBil1biIIP",
    "outputId": "da4d4e97-fb57-44d4-ccc8-18a5060003c9"
   },
   "outputs": [
    {
     "data": {
      "text/plain": [
       "(1470, 35)"
      ]
     },
     "execution_count": 2,
     "metadata": {},
     "output_type": "execute_result"
    }
   ],
   "source": [
    "df.shape"
   ]
  },
  {
   "cell_type": "code",
   "execution_count": null,
   "metadata": {
    "colab": {
     "base_uri": "https://localhost:8080/"
    },
    "executionInfo": {
     "elapsed": 14,
     "status": "ok",
     "timestamp": 1704104464886,
     "user": {
      "displayName": "IACSD Akurdi",
      "userId": "10433988175144222979"
     },
     "user_tz": -330
    },
    "id": "6sQo1nCZiR8O",
    "outputId": "4c71e826-74ab-40ca-f4c8-25b240aa7e3d"
   },
   "outputs": [
    {
     "data": {
      "text/plain": [
       "Index(['Age', 'Attrition', 'BusinessTravel', 'DailyRate', 'Department',\n",
       "       'DistanceFromHome', 'Education', 'EducationField', 'EmployeeCount',\n",
       "       'EmployeeNumber', 'EnvironmentSatisfaction', 'Gender', 'HourlyRate',\n",
       "       'JobInvolvement', 'JobLevel', 'JobRole', 'JobSatisfaction',\n",
       "       'MaritalStatus', 'MonthlyIncome', 'MonthlyRate', 'NumCompaniesWorked',\n",
       "       'Over18', 'OverTime', 'PercentSalaryHike', 'PerformanceRating',\n",
       "       'RelationshipSatisfaction', 'StandardHours', 'StockOptionLevel',\n",
       "       'TotalWorkingYears', 'TrainingTimesLastYear', 'WorkLifeBalance',\n",
       "       'YearsAtCompany', 'YearsInCurrentRole', 'YearsSinceLastPromotion',\n",
       "       'YearsWithCurrManager'],\n",
       "      dtype='object')"
      ]
     },
     "execution_count": 3,
     "metadata": {},
     "output_type": "execute_result"
    }
   ],
   "source": [
    "#print names of the columns\n",
    "df.columns"
   ]
  },
  {
   "cell_type": "markdown",
   "metadata": {
    "id": "tMxndZDqqlnl"
   },
   "source": [
    "# Training Testing Split\n",
    "\n",
    "- Target column is Attrition\n",
    "\n",
    "- All other columns are input features / attributes / dimensions"
   ]
  },
  {
   "cell_type": "code",
   "execution_count": null,
   "metadata": {
    "id": "pqt0M_ubioVO"
   },
   "outputs": [],
   "source": [
    "from sklearn.model_selection import train_test_split"
   ]
  },
  {
   "cell_type": "code",
   "execution_count": null,
   "metadata": {
    "id": "DQ9LhXForHv3"
   },
   "outputs": [],
   "source": [
    "X = df.drop('Attrition',axis=1) # all column which are input features --> X\n",
    "Y = df.loc[:,'Attrition'] # output column  --> Y"
   ]
  },
  {
   "cell_type": "code",
   "execution_count": null,
   "metadata": {
    "colab": {
     "base_uri": "https://localhost:8080/"
    },
    "collapsed": true,
    "executionInfo": {
     "elapsed": 12,
     "status": "ok",
     "timestamp": 1704107036842,
     "user": {
      "displayName": "IACSD Akurdi",
      "userId": "10433988175144222979"
     },
     "user_tz": -330
    },
    "id": "El9IBqWXsZPl",
    "outputId": "9f4b5292-fc1c-4285-f1ef-5442a031ea0d"
   },
   "outputs": [
    {
     "data": {
      "text/plain": [
       "((1470, 34), (1470,))"
      ]
     },
     "execution_count": 6,
     "metadata": {},
     "output_type": "execute_result"
    }
   ],
   "source": [
    "X.shape+, Y.shape"
   ]
  },
  {
   "cell_type": "markdown",
   "metadata": {
    "id": "w0arajvsvsfG"
   },
   "source": [
    "### Random_state -->\n",
    "\n",
    "random no generation --> Psuedo Random Number Generator\n",
    "\n",
    "generates random nos which never repeat\n",
    "\n",
    "We want nos between fixed range\n",
    "\n",
    "To make sure that every time we run train test split same rows go in training and same in testing, ... we set random_state\n",
    "\n"
   ]
  },
  {
   "cell_type": "code",
   "execution_count": 43,
   "metadata": {
    "executionInfo": {
     "elapsed": 702,
     "status": "ok",
     "timestamp": 1704112106822,
     "user": {
      "displayName": "IACSD Akurdi",
      "userId": "10433988175144222979"
     },
     "user_tz": -330
    },
    "id": "GV3WBiPxscsl"
   },
   "outputs": [],
   "source": [
    "X_train, X_test, y_train, y_test = train_test_split(X, Y, test_size=0.3,\n",
    "                                                    random_state=7,\n",
    "                                                    stratify=Y)#shuffle=True"
   ]
  },
  {
   "cell_type": "code",
   "execution_count": 44,
   "metadata": {
    "colab": {
     "base_uri": "https://localhost:8080/"
    },
    "executionInfo": {
     "elapsed": 6,
     "status": "ok",
     "timestamp": 1704112107807,
     "user": {
      "displayName": "IACSD Akurdi",
      "userId": "10433988175144222979"
     },
     "user_tz": -330
    },
    "id": "ffxxtwnKzUg9",
    "outputId": "6087ca0d-0976-4897-de05-9efc7e4f8147"
   },
   "outputs": [
    {
     "data": {
      "text/plain": [
       "((1029, 34), (441, 34), (1029,), (441,))"
      ]
     },
     "execution_count": 44,
     "metadata": {},
     "output_type": "execute_result"
    }
   ],
   "source": [
    "X_train.shape, X_test.shape, y_train.shape, y_test.shape"
   ]
  },
  {
   "cell_type": "markdown",
   "metadata": {
    "id": "CoLf-nvc1D4l"
   },
   "source": [
    "# Train the Preprocessing model"
   ]
  },
  {
   "cell_type": "markdown",
   "metadata": {
    "id": "n-q_tadl1Ga9"
   },
   "source": [
    "## Remove columns which are having missing values more than threshold\n",
    "\n",
    "threshold = 0.9\n",
    "\n",
    "means if a column has more tha 90% missing values then we will drop it"
   ]
  },
  {
   "cell_type": "code",
   "execution_count": 20,
   "metadata": {
    "colab": {
     "base_uri": "https://localhost:8080/"
    },
    "executionInfo": {
     "elapsed": 543,
     "status": "ok",
     "timestamp": 1704109962978,
     "user": {
      "displayName": "IACSD Akurdi",
      "userId": "10433988175144222979"
     },
     "user_tz": -330
    },
    "id": "IRuhmNDGzZVR",
    "outputId": "f47469d8-cc06-4bf0-a76c-8b7e6657faa5"
   },
   "outputs": [
    {
     "data": {
      "text/plain": [
       "Age                         0\n",
       "BusinessTravel              0\n",
       "DailyRate                   0\n",
       "Department                  0\n",
       "DistanceFromHome            0\n",
       "Education                   0\n",
       "EducationField              0\n",
       "EmployeeCount               0\n",
       "EmployeeNumber              0\n",
       "EnvironmentSatisfaction     0\n",
       "Gender                      0\n",
       "HourlyRate                  0\n",
       "JobInvolvement              0\n",
       "JobLevel                    0\n",
       "JobRole                     0\n",
       "JobSatisfaction             0\n",
       "MaritalStatus               0\n",
       "MonthlyIncome               0\n",
       "MonthlyRate                 0\n",
       "NumCompaniesWorked          0\n",
       "Over18                      0\n",
       "OverTime                    0\n",
       "PercentSalaryHike           0\n",
       "PerformanceRating           0\n",
       "RelationshipSatisfaction    0\n",
       "StandardHours               0\n",
       "StockOptionLevel            0\n",
       "TotalWorkingYears           0\n",
       "TrainingTimesLastYear       0\n",
       "WorkLifeBalance             0\n",
       "YearsAtCompany              0\n",
       "YearsInCurrentRole          0\n",
       "YearsSinceLastPromotion     0\n",
       "YearsWithCurrManager        0\n",
       "dtype: int64"
      ]
     },
     "execution_count": 20,
     "metadata": {},
     "output_type": "execute_result"
    }
   ],
   "source": [
    "X_train.isna().sum(axis=0)"
   ]
  },
  {
   "cell_type": "code",
   "execution_count": 12,
   "metadata": {
    "executionInfo": {
     "elapsed": 569,
     "status": "ok",
     "timestamp": 1704109601312,
     "user": {
      "displayName": "IACSD Akurdi",
      "userId": "10433988175144222979"
     },
     "user_tz": -330
    },
    "id": "HKpLcSVW1ZZX"
   },
   "outputs": [],
   "source": [
    "# No columns to drop here"
   ]
  },
  {
   "cell_type": "code",
   "execution_count": 22,
   "metadata": {
    "colab": {
     "base_uri": "https://localhost:8080/"
    },
    "executionInfo": {
     "elapsed": 543,
     "status": "ok",
     "timestamp": 1704109988341,
     "user": {
      "displayName": "IACSD Akurdi",
      "userId": "10433988175144222979"
     },
     "user_tz": -330
    },
    "id": "Fysalep_2OzP",
    "outputId": "6719a775-56f4-4e09-f939-0c79b4a0288d"
   },
   "outputs": [
    {
     "data": {
      "text/plain": [
       "Index(['EmployeeCount', 'Over18', 'StandardHours'], dtype='object')"
      ]
     },
     "execution_count": 22,
     "metadata": {},
     "output_type": "execute_result"
    }
   ],
   "source": [
    "X_train.columns[X_train.nunique()==1]"
   ]
  },
  {
   "cell_type": "code",
   "execution_count": 45,
   "metadata": {
    "executionInfo": {
     "elapsed": 864,
     "status": "ok",
     "timestamp": 1704112116201,
     "user": {
      "displayName": "IACSD Akurdi",
      "userId": "10433988175144222979"
     },
     "user_tz": -330
    },
    "id": "3_i5a3_329U5"
   },
   "outputs": [],
   "source": [
    "X_train.drop(columns=X_train.columns[X_train.nunique()==1], inplace=True)"
   ]
  },
  {
   "cell_type": "code",
   "execution_count": 25,
   "metadata": {
    "colab": {
     "base_uri": "https://localhost:8080/"
    },
    "executionInfo": {
     "elapsed": 544,
     "status": "ok",
     "timestamp": 1704110071751,
     "user": {
      "displayName": "IACSD Akurdi",
      "userId": "10433988175144222979"
     },
     "user_tz": -330
    },
    "id": "am-AklCK3TP4",
    "outputId": "a5ee34fb-6c1d-46f3-efb0-03e160e86182"
   },
   "outputs": [
    {
     "data": {
      "text/plain": [
       "(1029, 31)"
      ]
     },
     "execution_count": 25,
     "metadata": {},
     "output_type": "execute_result"
    }
   ],
   "source": [
    "X_train.shape"
   ]
  },
  {
   "cell_type": "code",
   "execution_count": 46,
   "metadata": {
    "executionInfo": {
     "elapsed": 9,
     "status": "ok",
     "timestamp": 1704112119350,
     "user": {
      "displayName": "IACSD Akurdi",
      "userId": "10433988175144222979"
     },
     "user_tz": -330
    },
    "id": "BeD-w3x54BYP"
   },
   "outputs": [],
   "source": [
    "valid_columns = X_train.columns"
   ]
  },
  {
   "cell_type": "code",
   "execution_count": 47,
   "metadata": {
    "executionInfo": {
     "elapsed": 10,
     "status": "ok",
     "timestamp": 1704112119912,
     "user": {
      "displayName": "IACSD Akurdi",
      "userId": "10433988175144222979"
     },
     "user_tz": -330
    },
    "id": "EruaumDZ4J8V"
   },
   "outputs": [],
   "source": [
    "X_test=X_test.loc[:,valid_columns]"
   ]
  },
  {
   "cell_type": "code",
   "execution_count": 48,
   "metadata": {
    "colab": {
     "base_uri": "https://localhost:8080/"
    },
    "executionInfo": {
     "elapsed": 7,
     "status": "ok",
     "timestamp": 1704112122257,
     "user": {
      "displayName": "IACSD Akurdi",
      "userId": "10433988175144222979"
     },
     "user_tz": -330
    },
    "id": "sHIuQz4M4VMB",
    "outputId": "cbdaf564-436f-41c8-c273-b02947a0c634"
   },
   "outputs": [
    {
     "data": {
      "text/plain": [
       "(441, 31)"
      ]
     },
     "execution_count": 48,
     "metadata": {},
     "output_type": "execute_result"
    }
   ],
   "source": [
    "X_test.shape"
   ]
  },
  {
   "cell_type": "markdown",
   "metadata": {
    "id": "ZFMfvT1D4qS2"
   },
   "source": [
    "### Remove repeated rows"
   ]
  },
  {
   "cell_type": "code",
   "execution_count": 29,
   "metadata": {
    "colab": {
     "base_uri": "https://localhost:8080/"
    },
    "executionInfo": {
     "elapsed": 764,
     "status": "ok",
     "timestamp": 1704110308960,
     "user": {
      "displayName": "IACSD Akurdi",
      "userId": "10433988175144222979"
     },
     "user_tz": -330
    },
    "id": "QcPONbBK46W5",
    "outputId": "9bdf7e8b-58e2-4507-9ff4-c2698733118c"
   },
   "outputs": [
    {
     "data": {
      "text/plain": [
       "(1029, 31)"
      ]
     },
     "execution_count": 29,
     "metadata": {},
     "output_type": "execute_result"
    }
   ],
   "source": [
    "X_train.shape"
   ]
  },
  {
   "cell_type": "code",
   "execution_count": 49,
   "metadata": {
    "executionInfo": {
     "elapsed": 798,
     "status": "ok",
     "timestamp": 1704112124572,
     "user": {
      "displayName": "IACSD Akurdi",
      "userId": "10433988175144222979"
     },
     "user_tz": -330
    },
    "id": "iPBD70oX4aBN"
   },
   "outputs": [],
   "source": [
    "X_train.drop_duplicates(inplace=True)"
   ]
  },
  {
   "cell_type": "code",
   "execution_count": 32,
   "metadata": {
    "colab": {
     "base_uri": "https://localhost:8080/"
    },
    "executionInfo": {
     "elapsed": 523,
     "status": "ok",
     "timestamp": 1704110334588,
     "user": {
      "displayName": "IACSD Akurdi",
      "userId": "10433988175144222979"
     },
     "user_tz": -330
    },
    "id": "Stedg7y749O8",
    "outputId": "cb3be10d-4afd-49ba-9d51-0e336df9f5d0"
   },
   "outputs": [
    {
     "data": {
      "text/plain": [
       "(1029, 31)"
      ]
     },
     "execution_count": 32,
     "metadata": {},
     "output_type": "execute_result"
    }
   ],
   "source": [
    "X_train.shape"
   ]
  },
  {
   "cell_type": "code",
   "execution_count": null,
   "metadata": {
    "id": "SIS19Pyc5B1o"
   },
   "outputs": [],
   "source": [
    "# revise concept of label encoding and one hot encoding"
   ]
  },
  {
   "cell_type": "code",
   "execution_count": 33,
   "metadata": {
    "executionInfo": {
     "elapsed": 536,
     "status": "ok",
     "timestamp": 1704110502123,
     "user": {
      "displayName": "IACSD Akurdi",
      "userId": "10433988175144222979"
     },
     "user_tz": -330
    },
    "id": "qY_R6rP05ifd"
   },
   "outputs": [],
   "source": [
    "# short-cut  --> apply one hot encoding (create dummy variables) on all string columns"
   ]
  },
  {
   "cell_type": "code",
   "execution_count": 34,
   "metadata": {
    "colab": {
     "base_uri": "https://localhost:8080/"
    },
    "executionInfo": {
     "elapsed": 541,
     "status": "ok",
     "timestamp": 1704110518268,
     "user": {
      "displayName": "IACSD Akurdi",
      "userId": "10433988175144222979"
     },
     "user_tz": -330
    },
    "id": "fia9pJvz5qvC",
    "outputId": "a285d1d5-2fe1-4d91-cfcd-4db9bb10be85"
   },
   "outputs": [
    {
     "data": {
      "text/plain": [
       "Age                          int64\n",
       "BusinessTravel              object\n",
       "DailyRate                    int64\n",
       "Department                  object\n",
       "DistanceFromHome             int64\n",
       "Education                    int64\n",
       "EducationField              object\n",
       "EmployeeNumber               int64\n",
       "EnvironmentSatisfaction      int64\n",
       "Gender                      object\n",
       "HourlyRate                   int64\n",
       "JobInvolvement               int64\n",
       "JobLevel                     int64\n",
       "JobRole                     object\n",
       "JobSatisfaction              int64\n",
       "MaritalStatus               object\n",
       "MonthlyIncome                int64\n",
       "MonthlyRate                  int64\n",
       "NumCompaniesWorked           int64\n",
       "OverTime                    object\n",
       "PercentSalaryHike            int64\n",
       "PerformanceRating            int64\n",
       "RelationshipSatisfaction     int64\n",
       "StockOptionLevel             int64\n",
       "TotalWorkingYears            int64\n",
       "TrainingTimesLastYear        int64\n",
       "WorkLifeBalance              int64\n",
       "YearsAtCompany               int64\n",
       "YearsInCurrentRole           int64\n",
       "YearsSinceLastPromotion      int64\n",
       "YearsWithCurrManager         int64\n",
       "dtype: object"
      ]
     },
     "execution_count": 34,
     "metadata": {},
     "output_type": "execute_result"
    }
   ],
   "source": [
    "X_train.dtypes"
   ]
  },
  {
   "cell_type": "code",
   "execution_count": 50,
   "metadata": {
    "executionInfo": {
     "elapsed": 921,
     "status": "ok",
     "timestamp": 1704112129427,
     "user": {
      "displayName": "IACSD Akurdi",
      "userId": "10433988175144222979"
     },
     "user_tz": -330
    },
    "id": "ExBoIIfJ5uZt"
   },
   "outputs": [],
   "source": [
    "X_train_ohe = pd.get_dummies(X_train)"
   ]
  },
  {
   "cell_type": "code",
   "execution_count": 51,
   "metadata": {
    "colab": {
     "base_uri": "https://localhost:8080/"
    },
    "executionInfo": {
     "elapsed": 5,
     "status": "ok",
     "timestamp": 1704112132336,
     "user": {
      "displayName": "IACSD Akurdi",
      "userId": "10433988175144222979"
     },
     "user_tz": -330
    },
    "id": "yp-m5SSJ6IMN",
    "outputId": "03c20752-fb76-4682-f508-7f72803795e7"
   },
   "outputs": [
    {
     "data": {
      "text/plain": [
       "(1029, 52)"
      ]
     },
     "execution_count": 51,
     "metadata": {},
     "output_type": "execute_result"
    }
   ],
   "source": [
    "X_train_ohe.shape"
   ]
  },
  {
   "cell_type": "code",
   "execution_count": 52,
   "metadata": {
    "executionInfo": {
     "elapsed": 989,
     "status": "ok",
     "timestamp": 1704112137056,
     "user": {
      "displayName": "IACSD Akurdi",
      "userId": "10433988175144222979"
     },
     "user_tz": -330
    },
    "id": "QknUpXz46Jz0"
   },
   "outputs": [],
   "source": [
    "X_test_ohe = pd.get_dummies(X_test)"
   ]
  },
  {
   "cell_type": "code",
   "execution_count": 53,
   "metadata": {
    "colab": {
     "base_uri": "https://localhost:8080/"
    },
    "executionInfo": {
     "elapsed": 5,
     "status": "ok",
     "timestamp": 1704112137057,
     "user": {
      "displayName": "IACSD Akurdi",
      "userId": "10433988175144222979"
     },
     "user_tz": -330
    },
    "id": "cCD8QJvA6QG5",
    "outputId": "ee62a22c-ec9d-4c83-e0f6-f6d525cdc982"
   },
   "outputs": [
    {
     "data": {
      "text/plain": [
       "(441, 52)"
      ]
     },
     "execution_count": 53,
     "metadata": {},
     "output_type": "execute_result"
    }
   ],
   "source": [
    "X_test_ohe.shape"
   ]
  },
  {
   "cell_type": "code",
   "execution_count": null,
   "metadata": {
    "id": "fCQ3wsfD6Rqj"
   },
   "outputs": [],
   "source": [
    "#X_train.fillna()"
   ]
  },
  {
   "cell_type": "markdown",
   "metadata": {
    "id": "rr_5qJuP-vEe"
   },
   "source": [
    "## Apply Standard Scaler on Training data and test data\n",
    "\n",
    "- standard scaler\n",
    "- min-max scaler\n",
    "- robust scaler"
   ]
  },
  {
   "cell_type": "code",
   "execution_count": 54,
   "metadata": {
    "executionInfo": {
     "elapsed": 983,
     "status": "ok",
     "timestamp": 1704112142557,
     "user": {
      "displayName": "IACSD Akurdi",
      "userId": "10433988175144222979"
     },
     "user_tz": -330
    },
    "id": "4jW3r59a_Ayh"
   },
   "outputs": [],
   "source": [
    "cont_columns = X_train_ohe.columns[X_train_ohe.nunique() > 15]"
   ]
  },
  {
   "cell_type": "code",
   "execution_count": 55,
   "metadata": {
    "executionInfo": {
     "elapsed": 6,
     "status": "ok",
     "timestamp": 1704112142558,
     "user": {
      "displayName": "IACSD Akurdi",
      "userId": "10433988175144222979"
     },
     "user_tz": -330
    },
    "id": "HVVsfy3W_PMn"
   },
   "outputs": [],
   "source": [
    "cont_column_mean = X_train_ohe.loc[:,cont_columns].mean()\n",
    "cont_column_std_dev = X_train_ohe.loc[:,cont_columns].std()"
   ]
  },
  {
   "cell_type": "code",
   "execution_count": 56,
   "metadata": {
    "executionInfo": {
     "elapsed": 2,
     "status": "ok",
     "timestamp": 1704112143736,
     "user": {
      "displayName": "IACSD Akurdi",
      "userId": "10433988175144222979"
     },
     "user_tz": -330
    },
    "id": "RR9qzUKG-3m_"
   },
   "outputs": [],
   "source": [
    "X_train_ohe.loc[:,cont_columns] = (X_train_ohe.loc[:,cont_columns] -cont_column_mean) / cont_column_std_dev"
   ]
  },
  {
   "cell_type": "code",
   "execution_count": 57,
   "metadata": {
    "colab": {
     "base_uri": "https://localhost:8080/"
    },
    "executionInfo": {
     "elapsed": 5,
     "status": "ok",
     "timestamp": 1704112146237,
     "user": {
      "displayName": "IACSD Akurdi",
      "userId": "10433988175144222979"
     },
     "user_tz": -330
    },
    "id": "-AXbGjlT_ox2",
    "outputId": "7f375a42-ded0-42c7-bde9-221bfb56dd94"
   },
   "outputs": [
    {
     "data": {
      "text/plain": [
       "Age                        2.123342e-16\n",
       "DailyRate                 -1.381035e-16\n",
       "DistanceFromHome          -5.524142e-17\n",
       "EmployeeNumber             1.225669e-16\n",
       "HourlyRate                -2.658493e-16\n",
       "MonthlyIncome              6.214659e-17\n",
       "MonthlyRate                1.277458e-16\n",
       "TotalWorkingYears          1.035777e-16\n",
       "YearsAtCompany             2.503127e-17\n",
       "YearsInCurrentRole         5.006253e-17\n",
       "YearsSinceLastPromotion    5.437827e-17\n",
       "YearsWithCurrManager      -5.696771e-17\n",
       "dtype: float64"
      ]
     },
     "execution_count": 57,
     "metadata": {},
     "output_type": "execute_result"
    }
   ],
   "source": [
    "X_train_ohe.loc[:,cont_columns].mean()"
   ]
  },
  {
   "cell_type": "code",
   "execution_count": null,
   "metadata": {
    "id": "pGonN-98_sJv"
   },
   "outputs": [],
   "source": [
    "#### test data apply std scaler"
   ]
  },
  {
   "cell_type": "markdown",
   "metadata": {
    "id": "x2_39aV7AOCH"
   },
   "source": [
    "## Format the target Column"
   ]
  },
  {
   "cell_type": "code",
   "execution_count": 59,
   "metadata": {
    "colab": {
     "base_uri": "https://localhost:8080/"
    },
    "executionInfo": {
     "elapsed": 778,
     "status": "ok",
     "timestamp": 1704112245283,
     "user": {
      "displayName": "IACSD Akurdi",
      "userId": "10433988175144222979"
     },
     "user_tz": -330
    },
    "id": "EcrUEnt-AIjr",
    "outputId": "371c3278-1f0d-4ba9-8e1a-9d06aa0bda21"
   },
   "outputs": [
    {
     "data": {
      "text/plain": [
       "715      No\n",
       "826      No\n",
       "432      No\n",
       "42      Yes\n",
       "851      No\n",
       "       ... \n",
       "588      No\n",
       "8        No\n",
       "880      No\n",
       "1249    Yes\n",
       "1171    Yes\n",
       "Name: Attrition, Length: 1029, dtype: object"
      ]
     },
     "execution_count": 59,
     "metadata": {},
     "output_type": "execute_result"
    }
   ],
   "source": [
    "y_train"
   ]
  },
  {
   "cell_type": "code",
   "execution_count": 60,
   "metadata": {
    "executionInfo": {
     "elapsed": 720,
     "status": "ok",
     "timestamp": 1704112308244,
     "user": {
      "displayName": "IACSD Akurdi",
      "userId": "10433988175144222979"
     },
     "user_tz": -330
    },
    "id": "PfGZ7GcJASs6"
   },
   "outputs": [],
   "source": [
    "y_train[y_train =='Yes'] =1\n",
    "y_train[y_train =='No'] =0"
   ]
  },
  {
   "cell_type": "code",
   "execution_count": 61,
   "metadata": {
    "colab": {
     "base_uri": "https://localhost:8080/"
    },
    "executionInfo": {
     "elapsed": 1193,
     "status": "ok",
     "timestamp": 1704112314598,
     "user": {
      "displayName": "IACSD Akurdi",
      "userId": "10433988175144222979"
     },
     "user_tz": -330
    },
    "id": "GSV_b_ruAjo0",
    "outputId": "f6ad58ee-9a75-4d40-e685-1ef817fd4f07"
   },
   "outputs": [
    {
     "data": {
      "text/plain": [
       "715     0\n",
       "826     0\n",
       "432     0\n",
       "42      1\n",
       "851     0\n",
       "       ..\n",
       "588     0\n",
       "8       0\n",
       "880     0\n",
       "1249    1\n",
       "1171    1\n",
       "Name: Attrition, Length: 1029, dtype: object"
      ]
     },
     "execution_count": 61,
     "metadata": {},
     "output_type": "execute_result"
    }
   ],
   "source": [
    "y_train"
   ]
  },
  {
   "cell_type": "code",
   "execution_count": null,
   "metadata": {
    "id": "Xw0ZaYcjAlEk"
   },
   "outputs": [],
   "source": []
  }
 ],
 "metadata": {
  "colab": {
   "authorship_tag": "ABX9TyMHyGH/IUgKMGZkYWeAfb8s",
   "provenance": []
  },
  "kernelspec": {
   "display_name": "Python 3 (ipykernel)",
   "language": "python",
   "name": "python3"
  },
  "language_info": {
   "codemirror_mode": {
    "name": "ipython",
    "version": 3
   },
   "file_extension": ".py",
   "mimetype": "text/x-python",
   "name": "python",
   "nbconvert_exporter": "python",
   "pygments_lexer": "ipython3",
   "version": "3.11.4"
  }
 },
 "nbformat": 4,
 "nbformat_minor": 1
}
