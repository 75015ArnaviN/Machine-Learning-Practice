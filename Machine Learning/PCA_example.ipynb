{
 "cells": [
  {
   "cell_type": "code",
   "execution_count": 2,
   "metadata": {
    "executionInfo": {
     "elapsed": 1765,
     "status": "ok",
     "timestamp": 1704287990308,
     "user": {
      "displayName": "IACSD Akurdi",
      "userId": "10433988175144222979"
     },
     "user_tz": -330
    },
    "id": "xTzKZ5EvncFO"
   },
   "outputs": [],
   "source": [
    "import pandas as pd"
   ]
  },
  {
   "cell_type": "code",
   "execution_count": 3,
   "metadata": {
    "colab": {
     "base_uri": "https://localhost:8080/",
     "height": 379
    },
    "executionInfo": {
     "elapsed": 479,
     "status": "error",
     "timestamp": 1704288018439,
     "user": {
      "displayName": "IACSD Akurdi",
      "userId": "10433988175144222979"
     },
     "user_tz": -330
    },
    "id": "5OBc5lk0n4-Z",
    "outputId": "beb66e7b-92ce-4ade-ed97-86d9367bb677"
   },
   "outputs": [],
   "source": [
    "df = pd.read_csv(\"diamonds.csv\")"
   ]
  },
  {
   "cell_type": "code",
   "execution_count": 4,
   "metadata": {
    "id": "VFUjSu6zn6Fy"
   },
   "outputs": [],
   "source": [
    "df = df.drop('Unnamed: 0',axis=1)"
   ]
  },
  {
   "cell_type": "code",
   "execution_count": 5,
   "metadata": {
    "id": "um_60mvBn9di"
   },
   "outputs": [],
   "source": [
    "df_ohe = pd.get_dummies(df)"
   ]
  },
  {
   "cell_type": "code",
   "execution_count": 6,
   "metadata": {
    "colab": {
     "base_uri": "https://localhost:8080/"
    },
    "executionInfo": {
     "elapsed": 402,
     "status": "ok",
     "timestamp": 1673957215226,
     "user": {
      "displayName": "IACSD Akurdi",
      "userId": "10433988175144222979"
     },
     "user_tz": -330
    },
    "id": "5cpeM12ln_ZX",
    "outputId": "7048adc6-0132-4829-d903-824bc4fc0062"
   },
   "outputs": [
    {
     "data": {
      "text/plain": [
       "(53940, 27)"
      ]
     },
     "execution_count": 6,
     "metadata": {},
     "output_type": "execute_result"
    }
   ],
   "source": [
    "df_ohe.shape"
   ]
  },
  {
   "cell_type": "markdown",
   "metadata": {
    "id": "x-5mwaNLoKpP"
   },
   "source": [
    "# Apply PCA"
   ]
  },
  {
   "cell_type": "code",
   "execution_count": null,
   "metadata": {
    "id": "dbe5_KJkoIiY"
   },
   "outputs": [],
   "source": [
    "from sklearn.decomposition import PCA"
   ]
  },
  {
   "cell_type": "code",
   "execution_count": null,
   "metadata": {
    "id": "QK4Bh0Ncob2o"
   },
   "outputs": [],
   "source": [
    "pca = PCA(random_state=7)"
   ]
  },
  {
   "cell_type": "code",
   "execution_count": null,
   "metadata": {
    "colab": {
     "base_uri": "https://localhost:8080/"
    },
    "executionInfo": {
     "elapsed": 395,
     "status": "ok",
     "timestamp": 1673957474535,
     "user": {
      "displayName": "IACSD Akurdi",
      "userId": "10433988175144222979"
     },
     "user_tz": -330
    },
    "id": "u1JimX6eo3_u",
    "outputId": "8e34fea6-707c-4512-95e6-f2466d6d74b5"
   },
   "outputs": [
    {
     "data": {
      "text/plain": [
       "PCA(random_state=7)"
      ]
     },
     "execution_count": 9,
     "metadata": {},
     "output_type": "execute_result"
    }
   ],
   "source": [
    "pca.fit(df_ohe)"
   ]
  },
  {
   "cell_type": "code",
   "execution_count": null,
   "metadata": {
    "id": "M5Zc1RoZpGEl"
   },
   "outputs": [],
   "source": [
    "trans_data = pca.transform(df_ohe)"
   ]
  },
  {
   "cell_type": "code",
   "execution_count": null,
   "metadata": {
    "colab": {
     "base_uri": "https://localhost:8080/"
    },
    "executionInfo": {
     "elapsed": 11,
     "status": "ok",
     "timestamp": 1673957589892,
     "user": {
      "displayName": "IACSD Akurdi",
      "userId": "10433988175144222979"
     },
     "user_tz": -330
    },
    "id": "I3u1JAAEpS_l",
    "outputId": "debf7c6f-df3b-45b0-f1b9-6e3c90ec6430"
   },
   "outputs": [
    {
     "data": {
      "text/plain": [
       "numpy.ndarray"
      ]
     },
     "execution_count": 11,
     "metadata": {},
     "output_type": "execute_result"
    }
   ],
   "source": [
    "type(trans_data)"
   ]
  },
  {
   "cell_type": "code",
   "execution_count": null,
   "metadata": {
    "id": "Z9M-iyvkpdG-"
   },
   "outputs": [],
   "source": [
    "df_trans = pd.DataFrame(trans_data, index=df_ohe.index)"
   ]
  },
  {
   "cell_type": "code",
   "execution_count": null,
   "metadata": {
    "colab": {
     "base_uri": "https://localhost:8080/",
     "height": 299
    },
    "executionInfo": {
     "elapsed": 17,
     "status": "ok",
     "timestamp": 1673957655302,
     "user": {
      "displayName": "IACSD Akurdi",
      "userId": "10433988175144222979"
     },
     "user_tz": -330
    },
    "id": "Y0AQ9SEQpp99",
    "outputId": "8b98b47e-7bb5-4f55-f8b3-94bc323008b7"
   },
   "outputs": [
    {
     "data": {
      "text/html": [
       "\n",
       "  <div id=\"df-40406f3f-40e6-4dc5-b671-7e26831372f3\">\n",
       "    <div class=\"colab-df-container\">\n",
       "      <div>\n",
       "<style scoped>\n",
       "    .dataframe tbody tr th:only-of-type {\n",
       "        vertical-align: middle;\n",
       "    }\n",
       "\n",
       "    .dataframe tbody tr th {\n",
       "        vertical-align: top;\n",
       "    }\n",
       "\n",
       "    .dataframe thead th {\n",
       "        text-align: right;\n",
       "    }\n",
       "</style>\n",
       "<table border=\"1\" class=\"dataframe\">\n",
       "  <thead>\n",
       "    <tr style=\"text-align: right;\">\n",
       "      <th></th>\n",
       "      <th>0</th>\n",
       "      <th>1</th>\n",
       "      <th>2</th>\n",
       "      <th>3</th>\n",
       "      <th>4</th>\n",
       "      <th>5</th>\n",
       "      <th>6</th>\n",
       "      <th>7</th>\n",
       "      <th>8</th>\n",
       "      <th>9</th>\n",
       "      <th>...</th>\n",
       "      <th>17</th>\n",
       "      <th>18</th>\n",
       "      <th>19</th>\n",
       "      <th>20</th>\n",
       "      <th>21</th>\n",
       "      <th>22</th>\n",
       "      <th>23</th>\n",
       "      <th>24</th>\n",
       "      <th>25</th>\n",
       "      <th>26</th>\n",
       "    </tr>\n",
       "  </thead>\n",
       "  <tbody>\n",
       "    <tr>\n",
       "      <th>0</th>\n",
       "      <td>-3606.800717</td>\n",
       "      <td>-2.166804</td>\n",
       "      <td>-0.995908</td>\n",
       "      <td>-0.962445</td>\n",
       "      <td>0.099581</td>\n",
       "      <td>-0.023399</td>\n",
       "      <td>0.145777</td>\n",
       "      <td>-0.185704</td>\n",
       "      <td>-0.794908</td>\n",
       "      <td>0.874357</td>\n",
       "      <td>...</td>\n",
       "      <td>-0.187188</td>\n",
       "      <td>0.052929</td>\n",
       "      <td>0.133208</td>\n",
       "      <td>0.146051</td>\n",
       "      <td>-0.017616</td>\n",
       "      <td>0.136521</td>\n",
       "      <td>0.005772</td>\n",
       "      <td>1.254781e-17</td>\n",
       "      <td>-4.502003e-17</td>\n",
       "      <td>6.256044e-17</td>\n",
       "    </tr>\n",
       "    <tr>\n",
       "      <th>1</th>\n",
       "      <td>-3606.800342</td>\n",
       "      <td>4.163437</td>\n",
       "      <td>-0.983330</td>\n",
       "      <td>-1.604882</td>\n",
       "      <td>-0.338579</td>\n",
       "      <td>-0.782995</td>\n",
       "      <td>-0.676778</td>\n",
       "      <td>-0.407839</td>\n",
       "      <td>-0.019127</td>\n",
       "      <td>0.654105</td>\n",
       "      <td>...</td>\n",
       "      <td>-0.138193</td>\n",
       "      <td>0.022197</td>\n",
       "      <td>0.060584</td>\n",
       "      <td>0.105913</td>\n",
       "      <td>-0.004379</td>\n",
       "      <td>0.130466</td>\n",
       "      <td>0.056554</td>\n",
       "      <td>9.581454e-17</td>\n",
       "      <td>-1.837979e-16</td>\n",
       "      <td>6.256044e-17</td>\n",
       "    </tr>\n",
       "    <tr>\n",
       "      <th>2</th>\n",
       "      <td>-3605.799959</td>\n",
       "      <td>8.717281</td>\n",
       "      <td>-2.668608</td>\n",
       "      <td>-1.662101</td>\n",
       "      <td>0.001042</td>\n",
       "      <td>-0.284928</td>\n",
       "      <td>0.816854</td>\n",
       "      <td>-0.004369</td>\n",
       "      <td>-0.449256</td>\n",
       "      <td>0.673278</td>\n",
       "      <td>...</td>\n",
       "      <td>-0.070987</td>\n",
       "      <td>-0.045690</td>\n",
       "      <td>0.014820</td>\n",
       "      <td>0.104344</td>\n",
       "      <td>0.031482</td>\n",
       "      <td>0.121413</td>\n",
       "      <td>0.094998</td>\n",
       "      <td>-1.520777e-17</td>\n",
       "      <td>-3.642092e-16</td>\n",
       "      <td>-3.815288e-16</td>\n",
       "    </tr>\n",
       "    <tr>\n",
       "      <th>3</th>\n",
       "      <td>-3598.800319</td>\n",
       "      <td>0.616735</td>\n",
       "      <td>0.753173</td>\n",
       "      <td>-1.013003</td>\n",
       "      <td>0.531751</td>\n",
       "      <td>0.397252</td>\n",
       "      <td>-0.822494</td>\n",
       "      <td>-0.426778</td>\n",
       "      <td>0.287813</td>\n",
       "      <td>-0.092700</td>\n",
       "      <td>...</td>\n",
       "      <td>-0.045043</td>\n",
       "      <td>0.102959</td>\n",
       "      <td>0.106516</td>\n",
       "      <td>0.064605</td>\n",
       "      <td>0.016621</td>\n",
       "      <td>0.083170</td>\n",
       "      <td>-0.012277</td>\n",
       "      <td>2.103063e-16</td>\n",
       "      <td>-1.907368e-16</td>\n",
       "      <td>2.395022e-16</td>\n",
       "    </tr>\n",
       "    <tr>\n",
       "      <th>4</th>\n",
       "      <td>-3597.800238</td>\n",
       "      <td>0.348418</td>\n",
       "      <td>1.722251</td>\n",
       "      <td>-0.660394</td>\n",
       "      <td>0.153750</td>\n",
       "      <td>0.080850</td>\n",
       "      <td>0.064526</td>\n",
       "      <td>0.142457</td>\n",
       "      <td>-0.626855</td>\n",
       "      <td>0.145228</td>\n",
       "      <td>...</td>\n",
       "      <td>-1.154296</td>\n",
       "      <td>0.197720</td>\n",
       "      <td>0.242720</td>\n",
       "      <td>0.104561</td>\n",
       "      <td>0.032781</td>\n",
       "      <td>0.117992</td>\n",
       "      <td>-0.162057</td>\n",
       "      <td>-5.286859e-16</td>\n",
       "      <td>-3.780869e-16</td>\n",
       "      <td>1.319494e-16</td>\n",
       "    </tr>\n",
       "  </tbody>\n",
       "</table>\n",
       "<p>5 rows × 27 columns</p>\n",
       "</div>\n",
       "      <button class=\"colab-df-convert\" onclick=\"convertToInteractive('df-40406f3f-40e6-4dc5-b671-7e26831372f3')\"\n",
       "              title=\"Convert this dataframe to an interactive table.\"\n",
       "              style=\"display:none;\">\n",
       "        \n",
       "  <svg xmlns=\"http://www.w3.org/2000/svg\" height=\"24px\"viewBox=\"0 0 24 24\"\n",
       "       width=\"24px\">\n",
       "    <path d=\"M0 0h24v24H0V0z\" fill=\"none\"/>\n",
       "    <path d=\"M18.56 5.44l.94 2.06.94-2.06 2.06-.94-2.06-.94-.94-2.06-.94 2.06-2.06.94zm-11 1L8.5 8.5l.94-2.06 2.06-.94-2.06-.94L8.5 2.5l-.94 2.06-2.06.94zm10 10l.94 2.06.94-2.06 2.06-.94-2.06-.94-.94-2.06-.94 2.06-2.06.94z\"/><path d=\"M17.41 7.96l-1.37-1.37c-.4-.4-.92-.59-1.43-.59-.52 0-1.04.2-1.43.59L10.3 9.45l-7.72 7.72c-.78.78-.78 2.05 0 2.83L4 21.41c.39.39.9.59 1.41.59.51 0 1.02-.2 1.41-.59l7.78-7.78 2.81-2.81c.8-.78.8-2.07 0-2.86zM5.41 20L4 18.59l7.72-7.72 1.47 1.35L5.41 20z\"/>\n",
       "  </svg>\n",
       "      </button>\n",
       "      \n",
       "  <style>\n",
       "    .colab-df-container {\n",
       "      display:flex;\n",
       "      flex-wrap:wrap;\n",
       "      gap: 12px;\n",
       "    }\n",
       "\n",
       "    .colab-df-convert {\n",
       "      background-color: #E8F0FE;\n",
       "      border: none;\n",
       "      border-radius: 50%;\n",
       "      cursor: pointer;\n",
       "      display: none;\n",
       "      fill: #1967D2;\n",
       "      height: 32px;\n",
       "      padding: 0 0 0 0;\n",
       "      width: 32px;\n",
       "    }\n",
       "\n",
       "    .colab-df-convert:hover {\n",
       "      background-color: #E2EBFA;\n",
       "      box-shadow: 0px 1px 2px rgba(60, 64, 67, 0.3), 0px 1px 3px 1px rgba(60, 64, 67, 0.15);\n",
       "      fill: #174EA6;\n",
       "    }\n",
       "\n",
       "    [theme=dark] .colab-df-convert {\n",
       "      background-color: #3B4455;\n",
       "      fill: #D2E3FC;\n",
       "    }\n",
       "\n",
       "    [theme=dark] .colab-df-convert:hover {\n",
       "      background-color: #434B5C;\n",
       "      box-shadow: 0px 1px 3px 1px rgba(0, 0, 0, 0.15);\n",
       "      filter: drop-shadow(0px 1px 2px rgba(0, 0, 0, 0.3));\n",
       "      fill: #FFFFFF;\n",
       "    }\n",
       "  </style>\n",
       "\n",
       "      <script>\n",
       "        const buttonEl =\n",
       "          document.querySelector('#df-40406f3f-40e6-4dc5-b671-7e26831372f3 button.colab-df-convert');\n",
       "        buttonEl.style.display =\n",
       "          google.colab.kernel.accessAllowed ? 'block' : 'none';\n",
       "\n",
       "        async function convertToInteractive(key) {\n",
       "          const element = document.querySelector('#df-40406f3f-40e6-4dc5-b671-7e26831372f3');\n",
       "          const dataTable =\n",
       "            await google.colab.kernel.invokeFunction('convertToInteractive',\n",
       "                                                     [key], {});\n",
       "          if (!dataTable) return;\n",
       "\n",
       "          const docLinkHtml = 'Like what you see? Visit the ' +\n",
       "            '<a target=\"_blank\" href=https://colab.research.google.com/notebooks/data_table.ipynb>data table notebook</a>'\n",
       "            + ' to learn more about interactive tables.';\n",
       "          element.innerHTML = '';\n",
       "          dataTable['output_type'] = 'display_data';\n",
       "          await google.colab.output.renderOutput(dataTable, element);\n",
       "          const docLink = document.createElement('div');\n",
       "          docLink.innerHTML = docLinkHtml;\n",
       "          element.appendChild(docLink);\n",
       "        }\n",
       "      </script>\n",
       "    </div>\n",
       "  </div>\n",
       "  "
      ],
      "text/plain": [
       "            0         1         2         3         4         5         6   \\\n",
       "0 -3606.800717 -2.166804 -0.995908 -0.962445  0.099581 -0.023399  0.145777   \n",
       "1 -3606.800342  4.163437 -0.983330 -1.604882 -0.338579 -0.782995 -0.676778   \n",
       "2 -3605.799959  8.717281 -2.668608 -1.662101  0.001042 -0.284928  0.816854   \n",
       "3 -3598.800319  0.616735  0.753173 -1.013003  0.531751  0.397252 -0.822494   \n",
       "4 -3597.800238  0.348418  1.722251 -0.660394  0.153750  0.080850  0.064526   \n",
       "\n",
       "         7         8         9   ...        17        18        19        20  \\\n",
       "0 -0.185704 -0.794908  0.874357  ... -0.187188  0.052929  0.133208  0.146051   \n",
       "1 -0.407839 -0.019127  0.654105  ... -0.138193  0.022197  0.060584  0.105913   \n",
       "2 -0.004369 -0.449256  0.673278  ... -0.070987 -0.045690  0.014820  0.104344   \n",
       "3 -0.426778  0.287813 -0.092700  ... -0.045043  0.102959  0.106516  0.064605   \n",
       "4  0.142457 -0.626855  0.145228  ... -1.154296  0.197720  0.242720  0.104561   \n",
       "\n",
       "         21        22        23            24            25            26  \n",
       "0 -0.017616  0.136521  0.005772  1.254781e-17 -4.502003e-17  6.256044e-17  \n",
       "1 -0.004379  0.130466  0.056554  9.581454e-17 -1.837979e-16  6.256044e-17  \n",
       "2  0.031482  0.121413  0.094998 -1.520777e-17 -3.642092e-16 -3.815288e-16  \n",
       "3  0.016621  0.083170 -0.012277  2.103063e-16 -1.907368e-16  2.395022e-16  \n",
       "4  0.032781  0.117992 -0.162057 -5.286859e-16 -3.780869e-16  1.319494e-16  \n",
       "\n",
       "[5 rows x 27 columns]"
      ]
     },
     "execution_count": 13,
     "metadata": {},
     "output_type": "execute_result"
    }
   ],
   "source": [
    "df_trans.head()"
   ]
  },
  {
   "cell_type": "code",
   "execution_count": null,
   "metadata": {
    "colab": {
     "base_uri": "https://localhost:8080/"
    },
    "executionInfo": {
     "elapsed": 7,
     "status": "ok",
     "timestamp": 1673958823979,
     "user": {
      "displayName": "IACSD Akurdi",
      "userId": "10433988175144222979"
     },
     "user_tz": -330
    },
    "id": "Gi3L7J0ss30J",
    "outputId": "d9e73cf0-55f0-43cf-fce8-b37ffc23f018"
   },
   "outputs": [
    {
     "data": {
      "text/plain": [
       "array([ 1.09500242e-04, -3.82352319e-06,  7.12078939e-05,  9.99999918e-01,\n",
       "        2.48687705e-04,  2.47760901e-04,  1.52347888e-04,  7.98852016e-07,\n",
       "       -2.24883229e-08, -1.19308135e-05,  1.04653924e-05,  6.89057387e-07,\n",
       "       -6.02031566e-06, -9.76931544e-06, -2.31097413e-06,  8.72554775e-07,\n",
       "        5.35757290e-06,  7.32056240e-06,  4.54991515e-06, -7.44934742e-09,\n",
       "       -2.22680238e-06,  9.61856434e-07,  1.21044278e-05, -8.88457918e-07,\n",
       "       -1.11523130e-07, -6.00181818e-06, -3.83023332e-06])"
      ]
     },
     "execution_count": 25,
     "metadata": {},
     "output_type": "execute_result"
    }
   ],
   "source": [
    "pca.components_[0] # coefficients of every column"
   ]
  },
  {
   "cell_type": "markdown",
   "metadata": {
    "id": "bdzh61aQp4ne"
   },
   "source": [
    "# How many components to select?"
   ]
  },
  {
   "cell_type": "code",
   "execution_count": null,
   "metadata": {
    "colab": {
     "base_uri": "https://localhost:8080/"
    },
    "executionInfo": {
     "elapsed": 400,
     "status": "ok",
     "timestamp": 1673957762705,
     "user": {
      "displayName": "IACSD Akurdi",
      "userId": "10433988175144222979"
     },
     "user_tz": -330
    },
    "id": "0E2dYBInp6_d",
    "outputId": "7652520f-65b5-4bb5-acb4-03a3344bf649"
   },
   "outputs": [
    {
     "data": {
      "text/plain": [
       "array([9.99999366e+01, 3.33397457e-05, 1.14207242e-05, 4.49202656e-06,\n",
       "       1.52189557e-06, 1.42547593e-06, 1.41716416e-06, 1.30462589e-06,\n",
       "       1.17579101e-06, 1.12264086e-06, 9.89530474e-07, 9.30251380e-07,\n",
       "       8.34218350e-07, 6.52582931e-07, 6.09599440e-07, 5.69021756e-07,\n",
       "       4.27074295e-07, 3.39398140e-07, 2.38057326e-07, 2.25200645e-07,\n",
       "       1.87832912e-07, 1.01189350e-07, 8.03933255e-08, 2.74859634e-08,\n",
       "       8.47972880e-31, 8.47972880e-31, 8.47972880e-31])"
      ]
     },
     "execution_count": 15,
     "metadata": {},
     "output_type": "execute_result"
    }
   ],
   "source": [
    "pca.explained_variance_ratio_ * 100"
   ]
  },
  {
   "cell_type": "code",
   "execution_count": null,
   "metadata": {
    "colab": {
     "base_uri": "https://localhost:8080/",
     "height": 283
    },
    "executionInfo": {
     "elapsed": 652,
     "status": "ok",
     "timestamp": 1673957883803,
     "user": {
      "displayName": "IACSD Akurdi",
      "userId": "10433988175144222979"
     },
     "user_tz": -330
    },
    "id": "81xUsBqHqWXO",
    "outputId": "c934c3d0-cdd7-4f1d-d14e-f442146ea990"
   },
   "outputs": [
    {
     "data": {
      "text/plain": [
       "[<matplotlib.lines.Line2D at 0x7fcd094294f0>]"
      ]
     },
     "execution_count": 17,
     "metadata": {},
     "output_type": "execute_result"
    },
    {
     "data": {
      "image/png": "[encoded data removed]",
      "text/plain": [
       "<Figure size 432x288 with 1 Axes>"
      ]
     },
     "metadata": {
      "needs_background": "light"
     },
     "output_type": "display_data"
    }
   ],
   "source": [
    "import matplotlib.pyplot as plt\n",
    "plt.plot(list(range(df_ohe.shape[1])), pca.explained_variance_ratio_)"
   ]
  },
  {
   "cell_type": "markdown",
   "metadata": {
    "id": "RxWebP8vqwZk"
   },
   "source": [
    "# Automated way of selecting number of components"
   ]
  },
  {
   "cell_type": "code",
   "execution_count": null,
   "metadata": {
    "id": "HOGzqd7qqwvr"
   },
   "outputs": [],
   "source": [
    "pca1 = PCA(n_components = 0.95, random_state=7 )"
   ]
  },
  {
   "cell_type": "code",
   "execution_count": null,
   "metadata": {
    "colab": {
     "base_uri": "https://localhost:8080/"
    },
    "executionInfo": {
     "elapsed": 626,
     "status": "ok",
     "timestamp": 1673958214155,
     "user": {
      "displayName": "IACSD Akurdi",
      "userId": "10433988175144222979"
     },
     "user_tz": -330
    },
    "id": "Vx_uQG2Hrrc6",
    "outputId": "3c17dd5d-6c8a-4657-a7ce-56f0b8a55c66"
   },
   "outputs": [
    {
     "data": {
      "text/plain": [
       "PCA(n_components=0.95, random_state=7)"
      ]
     },
     "execution_count": 19,
     "metadata": {},
     "output_type": "execute_result"
    }
   ],
   "source": [
    "pca1.fit(df_ohe)"
   ]
  },
  {
   "cell_type": "code",
   "execution_count": null,
   "metadata": {
    "id": "MLnBS-gtr0c6"
   },
   "outputs": [],
   "source": [
    "trans_data = pca1.transform(df_ohe)"
   ]
  },
  {
   "cell_type": "code",
   "execution_count": null,
   "metadata": {
    "colab": {
     "base_uri": "https://localhost:8080/"
    },
    "executionInfo": {
     "elapsed": 8,
     "status": "ok",
     "timestamp": 1673958249048,
     "user": {
      "displayName": "IACSD Akurdi",
      "userId": "10433988175144222979"
     },
     "user_tz": -330
    },
    "id": "7PQZaYHUr73k",
    "outputId": "3e4fee10-59cb-4a57-8a9d-b005e9a1ec95"
   },
   "outputs": [
    {
     "data": {
      "text/plain": [
       "(53940, 1)"
      ]
     },
     "execution_count": 21,
     "metadata": {},
     "output_type": "execute_result"
    }
   ],
   "source": [
    "trans_data.shape"
   ]
  }
 ],
 "metadata": {
  "colab": {
   "authorship_tag": "ABX9TyOZOKeZBxIjZnr0OLQGozDd",
   "mount_file_id": "1IdVEm6izuBHNp6pQeciDyaAjo_P26U2m",
   "provenance": []
  },
  "kernelspec": {
   "display_name": "Python 3 (ipykernel)",
   "language": "python",
   "name": "python3"
  },
  "language_info": {
   "codemirror_mode": {
    "name": "ipython",
    "version": 3
   },
   "file_extension": ".py",
   "mimetype": "text/x-python",
   "name": "python",
   "nbconvert_exporter": "python",
   "pygments_lexer": "ipython3",
   "version": "3.11.4"
  }
 },
 "nbformat": 4,
 "nbformat_minor": 1
}
